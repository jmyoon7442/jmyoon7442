{
  "nbformat": 4,
  "nbformat_minor": 0,
  "metadata": {
    "colab": {
      "provenance": [],
      "authorship_tag": "ABX9TyNvBSURXQmS3Ra/yxb3/THh",
      "include_colab_link": true
    },
    "kernelspec": {
      "name": "python3",
      "display_name": "Python 3"
    },
    "language_info": {
      "name": "python"
    }
  },
  "cells": [
    {
      "cell_type": "markdown",
      "metadata": {
        "id": "view-in-github",
        "colab_type": "text"
      },
      "source": [
        "<a href=\"https://colab.research.google.com/github/jmyoon7442/jmyoon7442/blob/main/240429.ipynb\" target=\"_parent\"><img src=\"https://colab.research.google.com/assets/colab-badge.svg\" alt=\"Open In Colab\"/></a>"
      ]
    },
    {
      "cell_type": "markdown",
      "source": [
        "# Markdown\n",
        "\n",
        "\n",
        "> Heading\n",
        "\n",
        "\n",
        "+ # Heading Level 1\n",
        "To create the biggest heading, you use one hash symbol (#) followed by a space, and then your heading text.\n",
        "\n",
        "\n",
        "+ ## Heading Level 2\n",
        " For a slightly smaller heading, use two hash symbols (##) followed by a space.\n",
        "\n",
        " 중간 사이즈 헤딩은 해시 2개\n",
        "\n",
        "+ ### Heading Level 3\n",
        " 제일 작은 헤딩은 해시 3개  \n",
        "\n",
        "\n",
        "> 줄바꿈 할 때는 윗줄 마지막에 스페이스 두 번\n",
        "\n",
        "\n",
        "> **굵은 글씨**는 양옆으로 별 두개씩(** **)\n",
        "\n",
        "\n",
        "> (>) 얘는 인용\n"
      ],
      "metadata": {
        "id": "8RF4n10RMtG1"
      }
    },
    {
      "cell_type": "markdown",
      "source": [
        "## 표\n",
        "\n",
        "|  English | Math | Art |\n",
        "|---|---|---|\n",
        "| A | A | C |\n",
        "| B | B | C |\n"
      ],
      "metadata": {
        "id": "kdyhKPF6NOb3"
      }
    },
    {
      "cell_type": "markdown",
      "source": [
        "> 서울 현재시간 코드"
      ],
      "metadata": {
        "id": "qjxpK3L0NVj0"
      }
    },
    {
      "cell_type": "code",
      "execution_count": 1,
      "metadata": {
        "colab": {
          "base_uri": "https://localhost:8080/"
        },
        "id": "Syjeqmg-MrHF",
        "outputId": "c097265f-467b-4a19-9c49-e396e5111ab5"
      },
      "outputs": [
        {
          "output_type": "stream",
          "name": "stdout",
          "text": [
            "Current Time in Seoul: 18:36:50\n"
          ]
        }
      ],
      "source": [
        "# 1. Import the pytz module for timezone calculations\n",
        "# datetime 모듈에서 datetime 클래스를 가져옵니다.\n",
        "# 이 클래스는 날짜와 시간 정보를 다루는데 사용됩니다.\n",
        "\n",
        "from datetime import datetime\n",
        "import pytz\n",
        "\n",
        "\n",
        "# 2. Define the timezone for Seoul\n",
        "# 'Asia/Seoul' 시간대를 나타내는 pytz.timezone() 객체를 생성하여 seoul_timezone 변수에 할당합니다.\n",
        "\n",
        "seoul_timezone = pytz.timezone('Asia/Seoul')\n",
        "\n",
        "\n",
        "# 3. Get current time in Seoul's timezone\n",
        "# datetime.now() 함수를 사용하여 현재 시간을 seoul_timezone 시간대로 가져옵니다.\n",
        "# 이 값을 now_seoul 변수에 할당합니다.\n",
        "\n",
        "now_seoul = datetime.now(seoul_timezone)\n",
        "\n",
        "\n",
        "# 4. Format the time\n",
        "# strftime() 메서드를 사용하여 현재 서울 시간을 지정된 형식에 맞추어 문자열로 변환합니다.\n",
        "# 여기서 \"%H:%M:%S\"는 시간을 시:분:초 형식으로 표시하도록 지정한 것입니다.\n",
        "\n",
        "current_time_seoul = now_seoul.strftime(\"%H:%M:%S\")\n",
        "\n",
        "\n",
        "\n",
        "# 5. Print the current time in Seoul\n",
        "# 서울의 현재 시간을 출력합니다.\n",
        "# 이 때 사용된 문자열은 \"Current Time in Seoul:\"이고, 그 뒤에는 위에서 변환한 current_time_seoul 문자열이 옵니다.\n",
        "\n",
        "print(\"Current Time in Seoul:\", current_time_seoul)\n",
        "\n"
      ]
    },
    {
      "cell_type": "code",
      "source": [
        "# This is a comment line 해시태그는 코멘트를 남길 때 사용\n",
        "print(\"Hello, Python!\")  # 코드 사용할 때 사용"
      ],
      "metadata": {
        "colab": {
          "base_uri": "https://localhost:8080/"
        },
        "id": "45CXILf_OQ1b",
        "outputId": "ad34d9cd-e83b-4575-b0bf-82768c751340"
      },
      "execution_count": 4,
      "outputs": [
        {
          "output_type": "stream",
          "name": "stdout",
          "text": [
            "Hello, Python!\n"
          ]
        }
      ]
    },
    {
      "cell_type": "code",
      "source": [
        "# This is a comment line <= This is a comment line\n",
        "# Comments can be more than one line\n",
        "\n",
        "print(\"Hello, Python!\") # This is a code line\n",
        "print('This is the output') # Comment can also be written this way."
      ],
      "metadata": {
        "colab": {
          "base_uri": "https://localhost:8080/"
        },
        "id": "UNUz18iEOvEk",
        "outputId": "81b713a8-d542-40b2-f963-f50338ae46e1"
      },
      "execution_count": 5,
      "outputs": [
        {
          "output_type": "stream",
          "name": "stdout",
          "text": [
            "Hello, Python!\n",
            "This is the output\n"
          ]
        }
      ]
    },
    {
      "cell_type": "code",
      "source": [
        "x = 5  # x는 int 이고\n",
        "y = \"Hello, World!\"  # y는 str(string/문자열)\n",
        "\n",
        "print(x)\n",
        "print(y)"
      ],
      "metadata": {
        "id": "nEIH74JmZg0c"
      },
      "execution_count": null,
      "outputs": []
    },
    {
      "cell_type": "code",
      "source": [
        "# Cell 1: Creating Variables\n",
        "name = \"John Doe\"   # str 문자열이다. 올바르게 문자열을 표기하려면 `name = \"John Doe\"`\n",
        "age = 30\n",
        "height = 5.9\n",
        "is_student = False\n",
        "\n",
        "subject = \"English\"\n",
        "\n",
        "# Cell 2: Working with Variables\n",
        "print(f\"Name: {name}\")\n",
        "print(f\"Age: {age}\")\n",
        "print(f\"Height: {height} feet\")\n",
        "print(f\"Is a student: {is_student}\")\n",
        "print(\"Subject:\", subject)"
      ],
      "metadata": {
        "colab": {
          "base_uri": "https://localhost:8080/"
        },
        "id": "mteWYYvKdbQ0",
        "outputId": "07c2bff0-563c-4fc8-c63b-6ea369861b52"
      },
      "execution_count": 13,
      "outputs": [
        {
          "output_type": "stream",
          "name": "stdout",
          "text": [
            "Name: John Doe\n",
            "Age: 30\n",
            "Height: 5.9 feet\n",
            "Is a student: False\n",
            "Subject: English\n"
          ]
        }
      ]
    }
  ]
}