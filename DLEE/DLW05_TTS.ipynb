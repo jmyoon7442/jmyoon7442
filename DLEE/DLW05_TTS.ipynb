{
  "nbformat": 4,
  "nbformat_minor": 0,
  "metadata": {
    "colab": {
      "private_outputs": true,
      "provenance": [],
      "include_colab_link": true
    },
    "kernelspec": {
      "name": "python3",
      "display_name": "Python 3"
    },
    "language_info": {
      "name": "python"
    }
  },
  "cells": [
    {
      "cell_type": "markdown",
      "metadata": {
        "id": "view-in-github",
        "colab_type": "text"
      },
      "source": [
        "<a href=\"https://colab.research.google.com/github/jmyoon7442/jmyoon7442/blob/main/DLEE/DLW05_TTS.ipynb\" target=\"_parent\"><img src=\"https://colab.research.google.com/assets/colab-badge.svg\" alt=\"Open In Colab\"/></a>"
      ]
    },
    {
      "cell_type": "markdown",
      "source": [
        "# 📗 **Lesson 4: Text-to-Speech (TTS)**\n",
        "\n",
        "+ TTS\n",
        "+ Making an interactive application: translate\n",
        "+ Translate and speak (app) - This works here. (not on huggingface)"
      ],
      "metadata": {
        "id": "ZsS_1jMG5SSg"
      }
    },
    {
      "cell_type": "markdown",
      "source": [
        "## **Step 1: Setting Up Text-to-Speech with gTTS (Google Text-to-Speech)**"
      ],
      "metadata": {
        "id": "y8u3fQYg5fph"
      }
    },
    {
      "cell_type": "markdown",
      "source": [
        "## TTS\n",
        "\n",
        "+ Text-to-Speech (TTS) technology converts written text into spoken words.\n",
        "+ 🌺 [Learn more](https://github.com/MK316/Spring2024/blob/main/DLTESOL/tts.md)"
      ],
      "metadata": {
        "id": "Vja02O5yrfcU"
      }
    },
    {
      "cell_type": "code",
      "execution_count": null,
      "metadata": {
        "id": "-S77gGZa5QVM"
      },
      "outputs": [],
      "source": [
        "%%capture\n",
        "!pip install gtts"
      ]
    },
    {
      "cell_type": "code",
      "source": [
        "from gtts import gTTS\n",
        "from IPython.display import Audio, display\n",
        "\n",
        "# The text you want to convert to audio\n",
        "text = \"Welcome to Python!\"\n",
        "\n",
        "# Creating a gTTS object\n",
        "tts = gTTS(text=text, lang=\"en\")\n",
        "\n",
        "# Save the object as mp3 file\n",
        "tts.save(\"output.mp3\")\n",
        "\n",
        "# Use IPython's Audio class to play the sound\n",
        "Audio(\"output.mp3\")"
      ],
      "metadata": {
        "id": "3-qY3RgbvIW_"
      },
      "execution_count": null,
      "outputs": []
    },
    {
      "cell_type": "markdown",
      "source": [
        "**Making tts( ) as a function**"
      ],
      "metadata": {
        "id": "v1_eGpUvvJHC"
      }
    },
    {
      "cell_type": "code",
      "source": [
        "from gtts import gTTS\n",
        "from IPython.display import Audio\n",
        "\n",
        "def tts(mytext, lang='en'):\n",
        "    tts = gTTS(text=mytext, lang=lang)\n",
        "    tts.save(\"output.mp3\")\n",
        "    return Audio(\"output.mp3\")\n",
        "\n",
        "audio = tts(\"Hello! welcome to our language learning app!\")\n",
        "audio"
      ],
      "metadata": {
        "id": "jH6YBhRX5dTM"
      },
      "execution_count": null,
      "outputs": []
    },
    {
      "cell_type": "markdown",
      "source": [
        "## **Step 2: Interactive User Input**\n",
        "The next step is to make it interactive. You can ask the user to input text, which can then be read back to them. This can be a way to practice pronunciation."
      ],
      "metadata": {
        "id": "EHlGz1Jq6Nt7"
      }
    },
    {
      "cell_type": "code",
      "source": [
        "user_input = input(\"Type a sentence in English to hear it spoken: \")\n",
        "\n",
        "tts(user_input)"
      ],
      "metadata": {
        "id": "cVUMGYgD6Sxw"
      },
      "execution_count": null,
      "outputs": []
    },
    {
      "cell_type": "markdown",
      "source": [
        "## **Step 3: Adding Basic Language Translation**\n",
        "You can integrate a basic translation feature using libraries like googletrans. First, install it:"
      ],
      "metadata": {
        "id": "nsQQ7KOP6YLx"
      }
    },
    {
      "cell_type": "code",
      "source": [
        "%%capture\n",
        "!pip install googletrans==4.0.0-rc1"
      ],
      "metadata": {
        "id": "caMdW8DK6c3C"
      },
      "execution_count": null,
      "outputs": []
    },
    {
      "cell_type": "markdown",
      "source": [
        "English to Spanish"
      ],
      "metadata": {
        "id": "4mL-dcQZnOWi"
      }
    },
    {
      "cell_type": "code",
      "source": [
        "from googletrans import Translator\n",
        "\n",
        "translator = Translator()\n",
        "\n",
        "def translate_and_speak(text, src_lang='en', target_lang='es'):\n",
        "    translation = translator.translate(text, src=src_lang, dest=target_lang)\n",
        "    print(f\"Translated Text: {translation.text}\")\n",
        "    tts(translation.text, lang=target_lang)\n",
        "\n",
        "user_input = input(\"Type a sentence in English to translate to Spanish and hear it spoken: \")\n",
        "translate_and_speak(user_input, target_lang='es')\n"
      ],
      "metadata": {
        "id": "aV5b3gzD6icV"
      },
      "execution_count": null,
      "outputs": []
    },
    {
      "cell_type": "markdown",
      "source": [
        "**Translate from Korean to English**"
      ],
      "metadata": {
        "id": "3AAoMYlTwB-o"
      }
    },
    {
      "cell_type": "code",
      "source": [
        "def ktts(mytext, lang='ko'):\n",
        "    tts = gTTS(text=mytext, lang=lang)\n",
        "    tts.save(\"k-output.mp3\")\n",
        "    return Audio(\"k-output.mp3\")\n",
        "\n",
        "audio = ktts(\"안녕하세요! 언어학습 교실에 오신 것을 환영합니다.\")\n",
        "audio"
      ],
      "metadata": {
        "id": "JdWFppAAwIbN"
      },
      "execution_count": null,
      "outputs": []
    },
    {
      "cell_type": "markdown",
      "source": [
        "Translate from Korean to English"
      ],
      "metadata": {
        "id": "jPnKN6qKnSMZ"
      }
    },
    {
      "cell_type": "code",
      "source": [
        "from googletrans import Translator\n",
        "\n",
        "translator = Translator()\n",
        "\n",
        "def translate_and_speak(text, src_lang='ko', target_lang='en'):\n",
        "    translation = translator.translate(text, src=src_lang, dest=target_lang)\n",
        "    print(f\"Translated Text: {translation.text}\")\n",
        "    tts(translation.text, lang=target_lang)\n",
        "\n",
        "user_input = input(\"Type a sentence in English to translate to Spanish and hear it spoken: \")\n",
        "translate_and_speak(user_input, target_lang='en')\n"
      ],
      "metadata": {
        "id": "i_iJEB0hwBRW"
      },
      "execution_count": null,
      "outputs": []
    },
    {
      "cell_type": "markdown",
      "source": [
        "+ 🌺 Translate and speak application"
      ],
      "metadata": {
        "id": "FXzOsbTI8Apm"
      }
    },
    {
      "cell_type": "code",
      "source": [
        "#@markdown Translate: multilingual\n",
        "from gtts import gTTS\n",
        "from IPython.display import Audio\n",
        "from googletrans import Translator\n",
        "\n",
        "def tts(text, lang='en'):\n",
        "    tts = gTTS(text=text, lang=lang)\n",
        "    tts.save(\"output.mp3\")\n",
        "    return Audio(\"output.mp3\")\n",
        "\n",
        "def translate_and_speak(text, src_lang='ko', target_lang='en'):\n",
        "    translator = Translator()\n",
        "    translation = translator.translate(text, src=src_lang, dest=target_lang)\n",
        "    print(f\"Translated Text: {translation.text}\")\n",
        "    return tts(translation.text, lang=target_lang)\n",
        "\n",
        "# Example usage\n",
        "user_input = input(\"Type a sentence in English to translate to Korean and hear it spoken: \")\n",
        "audio = translate_and_speak(user_input, target_lang='en')\n",
        "\n",
        "audio\n"
      ],
      "metadata": {
        "id": "kALwNQj86xNm",
        "cellView": "form"
      },
      "execution_count": null,
      "outputs": []
    },
    {
      "cell_type": "code",
      "source": [
        "!pip install gradio"
      ],
      "metadata": {
        "id": "mNp_4jbB8K75"
      },
      "execution_count": null,
      "outputs": []
    },
    {
      "cell_type": "code",
      "source": [
        "#@markdown 🌺 Gradio app for translation\n",
        "import gradio as gr\n",
        "from gtts import gTTS\n",
        "from googletrans import Translator, LANGUAGES\n",
        "import IPython.display as ipd\n",
        "\n",
        "def translate_and_speak(text, src_lang='English', target_lang='Korean'):\n",
        "    # Initialize the translator\n",
        "    translator = Translator()\n",
        "    # Convert language names to ISO 639-1 codes\n",
        "    src_lang_code = language_selection[src_lang]\n",
        "    target_lang_code = language_selection[target_lang]\n",
        "    # Translate the text\n",
        "    translation = translator.translate(text, src=src_lang_code, dest=target_lang_code)\n",
        "    translated_text = translation.text\n",
        "    # Convert the translated text to speech\n",
        "    tts = gTTS(text=translated_text, lang=target_lang_code)\n",
        "    tts.save(\"output.mp3\")\n",
        "    # Return the translated text and the audio file for playback\n",
        "    return translated_text, \"output.mp3\"\n",
        "\n",
        "\n",
        "# Create a dropdown menu for language selection\n",
        "language_codes = list(LANGUAGES.keys())\n",
        "language_names = [LANGUAGES[code] for code in language_codes]\n",
        "language_selection = {name: code for name, code in zip(language_names, language_codes)}\n",
        "\n",
        "# Define the Gradio interface\n",
        "iface = gr.Interface(fn=translate_and_speak,\n",
        "                     inputs=[gr.Textbox(lines=2, label=\"Input Text\"),\n",
        "                             gr.Dropdown(choices=language_names, label=\"Source Language (From): starts with lower case\", value='English'),\n",
        "                             gr.Dropdown(choices=language_names, label=\"Target Language (To): starts with lower case\", value='Korean')],\n",
        "                     outputs=[gr.Textbox(label=\"Translated Text\"), gr.Audio(label=\"Translated Speech\")],\n",
        "                     examples=[[\"Hello world\", \"English\", \"French\"]],\n",
        "                     title=\"Text Translation and Speech Synthesis\")\n",
        "\n",
        "# Run the interface\n",
        "iface.launch(debug=True)\n"
      ],
      "metadata": {
        "cellView": "form",
        "id": "oGDhHpzBxdM3"
      },
      "execution_count": null,
      "outputs": []
    },
    {
      "cell_type": "markdown",
      "source": [
        "# Customize the above app to use English and Korean only"
      ],
      "metadata": {
        "id": "7cVBdbFFGzu-"
      }
    },
    {
      "cell_type": "code",
      "source": [
        "#@markdown 🌺 Translate and speak (between Korean and English)\n",
        "import gradio as gr\n",
        "from gtts import gTTS\n",
        "from googletrans import Translator\n",
        "\n",
        "def translate_to_korean(text):\n",
        "    try:\n",
        "        translator = Translator()\n",
        "        translation = translator.translate(text, src='en', dest='ko')\n",
        "        translated_text = translation.text\n",
        "        tts = gTTS(text=translated_text, lang='ko')\n",
        "        tts.save(\"output_ko.mp3\")\n",
        "        return translated_text, \"output_ko.mp3\"\n",
        "    except Exception as e:\n",
        "        return str(e), None\n",
        "\n",
        "\n",
        "def translate_to_english(text):\n",
        "    # Initialize the translator\n",
        "    translator = Translator()\n",
        "    # Translate the text to English\n",
        "    translation = translator.translate(text, src='ko', dest='en')\n",
        "    translated_text = translation.text\n",
        "    # Convert the translated text to speech\n",
        "    tts = gTTS(text=translated_text, lang='en')\n",
        "    tts.save(\"output_en.mp3\")\n",
        "    # Return the translated text and the audio file for playback\n",
        "    return translated_text, \"output_en.mp3\"\n",
        "\n",
        "# Define the Gradio interface\n",
        "iface = gr.Interface(\n",
        "    fn=lambda text, lang: translate_to_korean(text) if lang == \"To Korean\" else translate_to_english(text),\n",
        "    inputs=[gr.Textbox(lines=2, label=\"Text to translate (Korean or English only)\"), gr.Radio([\"To Korean\", \"To English\"], label=\"Translate\")],\n",
        "    outputs=[gr.Textbox(label=\"Translated Text\"), gr.Audio(label=\"Translated Speech\")],\n",
        "    title=\"Translate and speak: Text translation and speech synthesis\"\n",
        ")\n",
        "\n",
        "# Run the interface\n",
        "iface.launch(debug=True)\n"
      ],
      "metadata": {
        "cellView": "form",
        "id": "SLM35oUsG4l-"
      },
      "execution_count": null,
      "outputs": []
    },
    {
      "cell_type": "code",
      "source": [
        "from googletrans import Translator\n",
        "translator = Translator()\n",
        "\n",
        "try:\n",
        "    translation = translator.translate('안녕하세요', src='ko', dest='en')\n",
        "    print(translation.text)\n",
        "except Exception as e:\n",
        "    print(f\"Error: {e}\")\n"
      ],
      "metadata": {
        "id": "bW5nKduThip6"
      },
      "execution_count": null,
      "outputs": []
    },
    {
      "cell_type": "markdown",
      "source": [
        "---\n",
        "The end"
      ],
      "metadata": {
        "id": "SQw6bM-7GbE_"
      }
    }
  ]
}