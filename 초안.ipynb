{
  "nbformat": 4,
  "nbformat_minor": 0,
  "metadata": {
    "colab": {
      "provenance": [],
      "toc_visible": true,
      "authorship_tag": "ABX9TyNYThTMZNsktryHWDZNX3tP",
      "include_colab_link": true
    },
    "kernelspec": {
      "name": "python3",
      "display_name": "Python 3"
    },
    "language_info": {
      "name": "python"
    }
  },
  "cells": [
    {
      "cell_type": "markdown",
      "metadata": {
        "id": "view-in-github",
        "colab_type": "text"
      },
      "source": [
        "<a href=\"https://colab.research.google.com/github/jmyoon7442/jmyoon7442/blob/main/%EC%B4%88%EC%95%88.ipynb\" target=\"_parent\"><img src=\"https://colab.research.google.com/assets/colab-badge.svg\" alt=\"Open In Colab\"/></a>"
      ]
    },
    {
      "cell_type": "markdown",
      "source": [
        "# 🏫 Final Project [Group 5]\n",
        "+ Dahye Lee, Hajeong Noh, Jeongmin Yoon\n",
        "\n",
        "\n"
      ],
      "metadata": {
        "id": "_9B2F-VROl-C"
      }
    },
    {
      "cell_type": "markdown",
      "source": [
        "여러가지 설명 사항들 적기~"
      ],
      "metadata": {
        "id": "UE9pJUX8PM7D"
      }
    },
    {
      "cell_type": "code",
      "source": [
        "#@markdown ####  👉 Install Before Start Your Class\n",
        "\n",
        "%%capture\n",
        "!pip install wordcloud matplotlib gradio gtts nltk pyqrcode pypng pandas"
      ],
      "metadata": {
        "cellView": "form",
        "id": "ekcRK_dRC8RM"
      },
      "execution_count": 20,
      "outputs": []
    },
    {
      "cell_type": "markdown",
      "source": [
        "## [1] 📙 Preview for Today's Class\n"
      ],
      "metadata": {
        "id": "UNvZ1-plLbxB"
      }
    },
    {
      "cell_type": "markdown",
      "source": [
        "[2] 단어 들을 수 있는 기능"
      ],
      "metadata": {
        "id": "74oOxh-iPkb2"
      }
    },
    {
      "cell_type": "code",
      "source": [
        "#@markdown #### ※ Run before making Word Cloud\n",
        "\n",
        "text = \"In the small town of Willow Creek, nestled between lush hills and a winding river, four friends—Emma, Jake, Mia, and Liam—stumbled upon an old map tucked inside a dusty library book titled 'Legends of the Lost.' The map depicted a hidden cave known only as the Cave of Whispers, rumored to hold a mysterious treasure that no one in Willow Creek had ever found. The friends, buzzing with excitement, planned an adventure to discover the cave. They packed their backpacks with essentials: flashlights, a compass, snacks, and a camera to document their journey. With the map as their guide, they set off early one Saturday morning, the summer sun casting long shadows through the forest. Their journey led them through thick woods where the light danced between the leaves, creating patterns on the forest floor. Birds chirped melodiously, providing a soundtrack to their expedition. After hours of hiking, the map directed them to a hidden path veiled by overgrown bushes. Pushing through, they finally came to a halt in front of a towering cliff face. In its center, concealed behind hanging vines, was the entrance to the Cave of Whispers. With hearts racing, the friends entered the cave. Inside, it was cool and damp, the air filled with the echo of dripping water. Their flashlights cut through the darkness, revealing ancient rock formations and walls that seemed to hum with old secrets. As they ventured deeper, they found carvings on the cave walls—mysterious symbols that none of them could decipher. Mia, who had a keen interest in history, took several photos, hoping to research them later. Suddenly, Jake, who was leading, halted. Ahead, in a small clearing within the cave, lay a wooden chest. It was old and covered in dust, with intricate carvings that shimmered under their flashlight beams. The friends exchanged looks of awe and nervous excitement. Liam carefully opened the chest to reveal its contents: golden coins, sparkling jewels, and a parchment that looked centuries old. Emma carefully unfolded the parchment, revealing a message written in an elegant script. It read: To those who seek adventure, true treasure lies not in gold but in the journey and the friendships forged along the way. The friends sat back, the weight of the words sinking in. They realized that the real treasure was their shared adventure—the challenges they overcame together and the memories they created. As they left the cave, the sun was setting, casting a golden glow over the landscape. They didn’t take anything from the chest, choosing instead to leave it for the next group of adventurers. Back home, they shared their story, the mysterious symbols, and the sage words of the parchment. The Cave of Whispers had given them a treasure far greater than they had imagined: a story of friendship, courage, and adventure that they would cherish forever.\""
      ],
      "metadata": {
        "cellView": "form",
        "id": "l52o10N_QgKt"
      },
      "execution_count": 22,
      "outputs": []
    },
    {
      "cell_type": "code",
      "source": [
        "import pandas as pd\n",
        "\n",
        "# Replace the URL with the direct link to the raw CSV file on GitHub\n",
        "url = \"https://raw.githubusercontent.com/jmyoon7442/jmyoon7442/main/%5BWordlist%5D%20The%20Cave%20of%20Whisper.csv\"\n",
        "df = pd.read_csv(url)\n",
        "df.head()"
      ],
      "metadata": {
        "colab": {
          "base_uri": "https://localhost:8080/",
          "height": 206
        },
        "id": "VhewmdIMPlIC",
        "outputId": "cc7784e8-a0b0-4ca0-9e80-7da0c6e12a27"
      },
      "execution_count": 25,
      "outputs": [
        {
          "output_type": "execute_result",
          "data": {
            "text/plain": [
              "       Word  Frequency\n",
              "0      cave          9\n",
              "1       old          4\n",
              "2       map          4\n",
              "3  treasure          4\n",
              "4   friends          4"
            ],
            "text/html": [
              "\n",
              "  <div id=\"df-9070a061-4a9a-45ea-9109-93ea900620a8\" class=\"colab-df-container\">\n",
              "    <div>\n",
              "<style scoped>\n",
              "    .dataframe tbody tr th:only-of-type {\n",
              "        vertical-align: middle;\n",
              "    }\n",
              "\n",
              "    .dataframe tbody tr th {\n",
              "        vertical-align: top;\n",
              "    }\n",
              "\n",
              "    .dataframe thead th {\n",
              "        text-align: right;\n",
              "    }\n",
              "</style>\n",
              "<table border=\"1\" class=\"dataframe\">\n",
              "  <thead>\n",
              "    <tr style=\"text-align: right;\">\n",
              "      <th></th>\n",
              "      <th>Word</th>\n",
              "      <th>Frequency</th>\n",
              "    </tr>\n",
              "  </thead>\n",
              "  <tbody>\n",
              "    <tr>\n",
              "      <th>0</th>\n",
              "      <td>cave</td>\n",
              "      <td>9</td>\n",
              "    </tr>\n",
              "    <tr>\n",
              "      <th>1</th>\n",
              "      <td>old</td>\n",
              "      <td>4</td>\n",
              "    </tr>\n",
              "    <tr>\n",
              "      <th>2</th>\n",
              "      <td>map</td>\n",
              "      <td>4</td>\n",
              "    </tr>\n",
              "    <tr>\n",
              "      <th>3</th>\n",
              "      <td>treasure</td>\n",
              "      <td>4</td>\n",
              "    </tr>\n",
              "    <tr>\n",
              "      <th>4</th>\n",
              "      <td>friends</td>\n",
              "      <td>4</td>\n",
              "    </tr>\n",
              "  </tbody>\n",
              "</table>\n",
              "</div>\n",
              "    <div class=\"colab-df-buttons\">\n",
              "\n",
              "  <div class=\"colab-df-container\">\n",
              "    <button class=\"colab-df-convert\" onclick=\"convertToInteractive('df-9070a061-4a9a-45ea-9109-93ea900620a8')\"\n",
              "            title=\"Convert this dataframe to an interactive table.\"\n",
              "            style=\"display:none;\">\n",
              "\n",
              "  <svg xmlns=\"http://www.w3.org/2000/svg\" height=\"24px\" viewBox=\"0 -960 960 960\">\n",
              "    <path d=\"M120-120v-720h720v720H120Zm60-500h600v-160H180v160Zm220 220h160v-160H400v160Zm0 220h160v-160H400v160ZM180-400h160v-160H180v160Zm440 0h160v-160H620v160ZM180-180h160v-160H180v160Zm440 0h160v-160H620v160Z\"/>\n",
              "  </svg>\n",
              "    </button>\n",
              "\n",
              "  <style>\n",
              "    .colab-df-container {\n",
              "      display:flex;\n",
              "      gap: 12px;\n",
              "    }\n",
              "\n",
              "    .colab-df-convert {\n",
              "      background-color: #E8F0FE;\n",
              "      border: none;\n",
              "      border-radius: 50%;\n",
              "      cursor: pointer;\n",
              "      display: none;\n",
              "      fill: #1967D2;\n",
              "      height: 32px;\n",
              "      padding: 0 0 0 0;\n",
              "      width: 32px;\n",
              "    }\n",
              "\n",
              "    .colab-df-convert:hover {\n",
              "      background-color: #E2EBFA;\n",
              "      box-shadow: 0px 1px 2px rgba(60, 64, 67, 0.3), 0px 1px 3px 1px rgba(60, 64, 67, 0.15);\n",
              "      fill: #174EA6;\n",
              "    }\n",
              "\n",
              "    .colab-df-buttons div {\n",
              "      margin-bottom: 4px;\n",
              "    }\n",
              "\n",
              "    [theme=dark] .colab-df-convert {\n",
              "      background-color: #3B4455;\n",
              "      fill: #D2E3FC;\n",
              "    }\n",
              "\n",
              "    [theme=dark] .colab-df-convert:hover {\n",
              "      background-color: #434B5C;\n",
              "      box-shadow: 0px 1px 3px 1px rgba(0, 0, 0, 0.15);\n",
              "      filter: drop-shadow(0px 1px 2px rgba(0, 0, 0, 0.3));\n",
              "      fill: #FFFFFF;\n",
              "    }\n",
              "  </style>\n",
              "\n",
              "    <script>\n",
              "      const buttonEl =\n",
              "        document.querySelector('#df-9070a061-4a9a-45ea-9109-93ea900620a8 button.colab-df-convert');\n",
              "      buttonEl.style.display =\n",
              "        google.colab.kernel.accessAllowed ? 'block' : 'none';\n",
              "\n",
              "      async function convertToInteractive(key) {\n",
              "        const element = document.querySelector('#df-9070a061-4a9a-45ea-9109-93ea900620a8');\n",
              "        const dataTable =\n",
              "          await google.colab.kernel.invokeFunction('convertToInteractive',\n",
              "                                                    [key], {});\n",
              "        if (!dataTable) return;\n",
              "\n",
              "        const docLinkHtml = 'Like what you see? Visit the ' +\n",
              "          '<a target=\"_blank\" href=https://colab.research.google.com/notebooks/data_table.ipynb>data table notebook</a>'\n",
              "          + ' to learn more about interactive tables.';\n",
              "        element.innerHTML = '';\n",
              "        dataTable['output_type'] = 'display_data';\n",
              "        await google.colab.output.renderOutput(dataTable, element);\n",
              "        const docLink = document.createElement('div');\n",
              "        docLink.innerHTML = docLinkHtml;\n",
              "        element.appendChild(docLink);\n",
              "      }\n",
              "    </script>\n",
              "  </div>\n",
              "\n",
              "\n",
              "<div id=\"df-5c66e1cf-1180-45be-a90a-1f7fe3aeb4b3\">\n",
              "  <button class=\"colab-df-quickchart\" onclick=\"quickchart('df-5c66e1cf-1180-45be-a90a-1f7fe3aeb4b3')\"\n",
              "            title=\"Suggest charts\"\n",
              "            style=\"display:none;\">\n",
              "\n",
              "<svg xmlns=\"http://www.w3.org/2000/svg\" height=\"24px\"viewBox=\"0 0 24 24\"\n",
              "     width=\"24px\">\n",
              "    <g>\n",
              "        <path d=\"M19 3H5c-1.1 0-2 .9-2 2v14c0 1.1.9 2 2 2h14c1.1 0 2-.9 2-2V5c0-1.1-.9-2-2-2zM9 17H7v-7h2v7zm4 0h-2V7h2v10zm4 0h-2v-4h2v4z\"/>\n",
              "    </g>\n",
              "</svg>\n",
              "  </button>\n",
              "\n",
              "<style>\n",
              "  .colab-df-quickchart {\n",
              "      --bg-color: #E8F0FE;\n",
              "      --fill-color: #1967D2;\n",
              "      --hover-bg-color: #E2EBFA;\n",
              "      --hover-fill-color: #174EA6;\n",
              "      --disabled-fill-color: #AAA;\n",
              "      --disabled-bg-color: #DDD;\n",
              "  }\n",
              "\n",
              "  [theme=dark] .colab-df-quickchart {\n",
              "      --bg-color: #3B4455;\n",
              "      --fill-color: #D2E3FC;\n",
              "      --hover-bg-color: #434B5C;\n",
              "      --hover-fill-color: #FFFFFF;\n",
              "      --disabled-bg-color: #3B4455;\n",
              "      --disabled-fill-color: #666;\n",
              "  }\n",
              "\n",
              "  .colab-df-quickchart {\n",
              "    background-color: var(--bg-color);\n",
              "    border: none;\n",
              "    border-radius: 50%;\n",
              "    cursor: pointer;\n",
              "    display: none;\n",
              "    fill: var(--fill-color);\n",
              "    height: 32px;\n",
              "    padding: 0;\n",
              "    width: 32px;\n",
              "  }\n",
              "\n",
              "  .colab-df-quickchart:hover {\n",
              "    background-color: var(--hover-bg-color);\n",
              "    box-shadow: 0 1px 2px rgba(60, 64, 67, 0.3), 0 1px 3px 1px rgba(60, 64, 67, 0.15);\n",
              "    fill: var(--button-hover-fill-color);\n",
              "  }\n",
              "\n",
              "  .colab-df-quickchart-complete:disabled,\n",
              "  .colab-df-quickchart-complete:disabled:hover {\n",
              "    background-color: var(--disabled-bg-color);\n",
              "    fill: var(--disabled-fill-color);\n",
              "    box-shadow: none;\n",
              "  }\n",
              "\n",
              "  .colab-df-spinner {\n",
              "    border: 2px solid var(--fill-color);\n",
              "    border-color: transparent;\n",
              "    border-bottom-color: var(--fill-color);\n",
              "    animation:\n",
              "      spin 1s steps(1) infinite;\n",
              "  }\n",
              "\n",
              "  @keyframes spin {\n",
              "    0% {\n",
              "      border-color: transparent;\n",
              "      border-bottom-color: var(--fill-color);\n",
              "      border-left-color: var(--fill-color);\n",
              "    }\n",
              "    20% {\n",
              "      border-color: transparent;\n",
              "      border-left-color: var(--fill-color);\n",
              "      border-top-color: var(--fill-color);\n",
              "    }\n",
              "    30% {\n",
              "      border-color: transparent;\n",
              "      border-left-color: var(--fill-color);\n",
              "      border-top-color: var(--fill-color);\n",
              "      border-right-color: var(--fill-color);\n",
              "    }\n",
              "    40% {\n",
              "      border-color: transparent;\n",
              "      border-right-color: var(--fill-color);\n",
              "      border-top-color: var(--fill-color);\n",
              "    }\n",
              "    60% {\n",
              "      border-color: transparent;\n",
              "      border-right-color: var(--fill-color);\n",
              "    }\n",
              "    80% {\n",
              "      border-color: transparent;\n",
              "      border-right-color: var(--fill-color);\n",
              "      border-bottom-color: var(--fill-color);\n",
              "    }\n",
              "    90% {\n",
              "      border-color: transparent;\n",
              "      border-bottom-color: var(--fill-color);\n",
              "    }\n",
              "  }\n",
              "</style>\n",
              "\n",
              "  <script>\n",
              "    async function quickchart(key) {\n",
              "      const quickchartButtonEl =\n",
              "        document.querySelector('#' + key + ' button');\n",
              "      quickchartButtonEl.disabled = true;  // To prevent multiple clicks.\n",
              "      quickchartButtonEl.classList.add('colab-df-spinner');\n",
              "      try {\n",
              "        const charts = await google.colab.kernel.invokeFunction(\n",
              "            'suggestCharts', [key], {});\n",
              "      } catch (error) {\n",
              "        console.error('Error during call to suggestCharts:', error);\n",
              "      }\n",
              "      quickchartButtonEl.classList.remove('colab-df-spinner');\n",
              "      quickchartButtonEl.classList.add('colab-df-quickchart-complete');\n",
              "    }\n",
              "    (() => {\n",
              "      let quickchartButtonEl =\n",
              "        document.querySelector('#df-5c66e1cf-1180-45be-a90a-1f7fe3aeb4b3 button');\n",
              "      quickchartButtonEl.style.display =\n",
              "        google.colab.kernel.accessAllowed ? 'block' : 'none';\n",
              "    })();\n",
              "  </script>\n",
              "</div>\n",
              "\n",
              "    </div>\n",
              "  </div>\n"
            ],
            "application/vnd.google.colaboratory.intrinsic+json": {
              "type": "dataframe",
              "variable_name": "df",
              "summary": "{\n  \"name\": \"df\",\n  \"rows\": 221,\n  \"fields\": [\n    {\n      \"column\": \"Word\",\n      \"properties\": {\n        \"dtype\": \"string\",\n        \"num_unique_values\": 221,\n        \"samples\": [\n          \"none\",\n          \"clearing\",\n          \"veiled\"\n        ],\n        \"semantic_type\": \"\",\n        \"description\": \"\"\n      }\n    },\n    {\n      \"column\": \"Frequency\",\n      \"properties\": {\n        \"dtype\": \"number\",\n        \"std\": 0,\n        \"min\": 1,\n        \"max\": 9,\n        \"num_unique_values\": 5,\n        \"samples\": [\n          4,\n          1,\n          3\n        ],\n        \"semantic_type\": \"\",\n        \"description\": \"\"\n      }\n    }\n  ]\n}"
            }
          },
          "metadata": {},
          "execution_count": 25
        }
      ]
    },
    {
      "cell_type": "markdown",
      "source": [
        "## Section [1] 🔵 Gradio implementation #1: Audio for selected words by the user"
      ],
      "metadata": {
        "id": "QZF70SiAUf-m"
      }
    },
    {
      "cell_type": "code",
      "source": [
        "#@markdown Gradio app: display words to learn and generate audio of the user selected words\n",
        "\n",
        "import pandas as pd\n",
        "from gtts import gTTS\n",
        "import gradio as gr\n",
        "import os\n",
        "\n",
        "\n",
        "def check_words(selected_words):\n",
        "    phrase = \"Let me say the words you selected: \"\n",
        "    phrase += \", \".join(f\"Number {i + 1}. {word}\" for i, word in enumerate(selected_words))\n",
        "\n",
        "    tts = gTTS(text=phrase, lang='en')\n",
        "    audio_path = 'selected_words.mp3'\n",
        "    tts.save(audio_path)\n",
        "\n",
        "    return audio_path\n",
        "\n",
        "words = df['Word'].tolist()\n",
        "\n",
        "iface = gr.Interface(\n",
        "    fn=check_words,\n",
        "    inputs=gr.components.CheckboxGroup(choices=words, label=\"Check the words you do not know how to pronounce:\"),\n",
        "    outputs=gr.Audio(label=\"Listen to the Pronunciation\"),\n",
        "    title=\"Learn to Pronounce\",\n",
        "    description=\"Check the words you are not sure how to pronounce and submit to listen to their pronunciation.\"\n",
        ")\n",
        "\n",
        "iface.launch()\n"
      ],
      "metadata": {
        "cellView": "form",
        "id": "ZwmUU5uyUBxa"
      },
      "execution_count": null,
      "outputs": []
    },
    {
      "cell_type": "markdown",
      "source": [
        "## Section [2] 🔵 Gradio implementation #2: Audio for selected words by the user"
      ],
      "metadata": {
        "id": "oZ9WHX1uM4jk"
      }
    },
    {
      "cell_type": "code",
      "source": [
        "#@markdown Gradio app for a single word pronunciation\n",
        "\n",
        "import gradio as gr\n",
        "import pandas as pd\n",
        "from gtts import gTTS\n",
        "import os\n",
        "\n",
        "\n",
        "def check_word(word):\n",
        "    if not os.path.exists('audio_files'):\n",
        "        os.makedirs('audio_files')\n",
        "\n",
        "    audio_path = f'audio_files/{word}.mp3'\n",
        "    if not os.path.exists(audio_path):  # Generate file if it doesn't exist\n",
        "        tts = gTTS(text=word, lang='en')\n",
        "        tts.save(audio_path)\n",
        "\n",
        "    return audio_path\n",
        "\n",
        "iface = gr.Interface(\n",
        "    fn=check_word,\n",
        "    inputs=gr.Dropdown(choices=words, label=\"Select a word you do not know how to pronounce:\"),\n",
        "    outputs=gr.Audio(label=\"Listen to the Pronunciation\"),\n",
        "    title=\"Learn to Pronounce\",\n",
        "    description=\"Select a word and submit to listen to its pronunciation.\"\n",
        ")\n",
        "\n",
        "iface.launch()\n"
      ],
      "metadata": {
        "cellView": "form",
        "id": "Abt3RKdsUr0t"
      },
      "execution_count": null,
      "outputs": []
    },
    {
      "cell_type": "markdown",
      "source": [
        "## Section [3] 🔵 Read aloud practice? Sentence by sentence"
      ],
      "metadata": {
        "id": "zf5yhQXEUuBb"
      }
    },
    {
      "cell_type": "code",
      "source": [
        "#@markdown #### ※ Run before making app\n",
        "\n",
        "mytext = \"In the small town of Willow Creek, nestled between lush hills and a winding river, four friends—Emma, Jake, Mia, and Liam—stumbled upon an old map tucked inside a dusty library book titled 'Legends of the Lost.' The map depicted a hidden cave known only as the Cave of Whispers, rumored to hold a mysterious treasure that no one in Willow Creek had ever found. The friends, buzzing with excitement, planned an adventure to discover the cave. They packed their backpacks with essentials: flashlights, a compass, snacks, and a camera to document their journey. With the map as their guide, they set off early one Saturday morning, the summer sun casting long shadows through the forest. Their journey led them through thick woods where the light danced between the leaves, creating patterns on the forest floor. Birds chirped melodiously, providing a soundtrack to their expedition. After hours of hiking, the map directed them to a hidden path veiled by overgrown bushes. Pushing through, they finally came to a halt in front of a towering cliff face. In its center, concealed behind hanging vines, was the entrance to the Cave of Whispers. With hearts racing, the friends entered the cave. Inside, it was cool and damp, the air filled with the echo of dripping water. Their flashlights cut through the darkness, revealing ancient rock formations and walls that seemed to hum with old secrets. As they ventured deeper, they found carvings on the cave walls—mysterious symbols that none of them could decipher. Mia, who had a keen interest in history, took several photos, hoping to research them later. Suddenly, Jake, who was leading, halted. Ahead, in a small clearing within the cave, lay a wooden chest. It was old and covered in dust, with intricate carvings that shimmered under their flashlight beams. The friends exchanged looks of awe and nervous excitement. Liam carefully opened the chest to reveal its contents: golden coins, sparkling jewels, and a parchment that looked centuries old. Emma carefully unfolded the parchment, revealing a message written in an elegant script. It read: To those who seek adventure, true treasure lies not in gold but in the journey and the friendships forged along the way. The friends sat back, the weight of the words sinking in. They realized that the real treasure was their shared adventure—the challenges they overcame together and the memories they created. As they left the cave, the sun was setting, casting a golden glow over the landscape. They didn’t take anything from the chest, choosing instead to leave it for the next group of adventurers. Back home, they shared their story, the mysterious symbols, and the sage words of the parchment. The Cave of Whispers had given them a treasure far greater than they had imagined: a story of friendship, courage, and adventure that they would cherish forever.\""
      ],
      "metadata": {
        "cellView": "form",
        "id": "ZVDELFOvWr5w"
      },
      "execution_count": 28,
      "outputs": []
    },
    {
      "cell_type": "code",
      "source": [
        "#@markdown Gradio app for Read-Aloud practice (by sentences)\n",
        "import gradio as gr\n",
        "from gtts import gTTS\n",
        "from nltk import tokenize\n",
        "import os\n",
        "\n",
        "# Import necessary nltk libraries\n",
        "import nltk\n",
        "nltk.download('punkt')\n",
        "\n",
        "\n",
        "# Tokenize the predefined text into sentences\n",
        "sentences = tokenize.sent_tokenize(mytext)\n",
        "\n",
        "def generate_audio(selected_item):\n",
        "    index_str = selected_item.split('.')[0]\n",
        "    index = int(index_str) - 1  # Adjust for 0-based index\n",
        "\n",
        "    if 0 <= index < len(sentences):\n",
        "        sentence = sentences[index]\n",
        "        tts = gTTS(text=sentence, lang='en')\n",
        "        audio_path = f'sentence_{index + 1}.mp3'\n",
        "        tts.save(audio_path)\n",
        "        return audio_path\n",
        "    else:\n",
        "        return \"Invalid sentence number\"\n",
        "\n",
        "# Gradio interface\n",
        "iface = gr.Interface(\n",
        "    fn=generate_audio,\n",
        "    inputs=gr.Dropdown(choices=[f\"{i + 1}. {s}\" for i, s in enumerate(sentences)], label=\"Select Sentence\"),\n",
        "    outputs=gr.Audio(label=\"Audio of Selected Sentence\"),\n",
        "    title=\"Text to Audio by Sentence\",\n",
        "    description=\"Select a sentence number to hear it spoken.\"\n",
        ")\n",
        "\n",
        "iface.launch()\n"
      ],
      "metadata": {
        "cellView": "form",
        "id": "KfuX1sb6XJM3"
      },
      "execution_count": null,
      "outputs": []
    },
    {
      "cell_type": "markdown",
      "source": [
        "#### ⚾ 큐알코드를 만들어 final 때 같이 활동을 해볼 수 있도록 하는 것도 좋을 듯"
      ],
      "metadata": {
        "id": "gDEYGukLXa9Z"
      }
    },
    {
      "cell_type": "markdown",
      "source": [
        "# [6] 📋 Let's Review!\n",
        "\n",
        ": 지문 복습을 위해 Word Cloud 활동 & 지문 내용을 담은 짧은 영상을 보여주며 마무리\n",
        "+ Step 1. 지문 내용을 기반으로 한 Word Cloud 이미지를 보여준 후 학생들과 함께 훑어본다.\n",
        "+ Step 2. 학생들은 돌아가며 해당 키워드와 관련하여 오늘 배운 내용에 대해 이야기 한다.  \n",
        "+ Step 3. 유튜브를 통해 영상을 시청하며 마무리한다."
      ],
      "metadata": {
        "id": "t6nLml0rDNl4"
      }
    },
    {
      "cell_type": "code",
      "source": [
        "#@markdown #### ※ Run before making Word Cloud\n",
        "\n",
        "text = \"In the small town of Willow Creek, nestled between lush hills and a winding river, four friends—Emma, Jake, Mia, and Liam—stumbled upon an old map tucked inside a dusty library book titled 'Legends of the Lost.' The map depicted a hidden cave known only as the Cave of Whispers, rumored to hold a mysterious treasure that no one in Willow Creek had ever found. The friends, buzzing with excitement, planned an adventure to discover the cave. They packed their backpacks with essentials: flashlights, a compass, snacks, and a camera to document their journey. With the map as their guide, they set off early one Saturday morning, the summer sun casting long shadows through the forest. Their journey led them through thick woods where the light danced between the leaves, creating patterns on the forest floor. Birds chirped melodiously, providing a soundtrack to their expedition. After hours of hiking, the map directed them to a hidden path veiled by overgrown bushes. Pushing through, they finally came to a halt in front of a towering cliff face. In its center, concealed behind hanging vines, was the entrance to the Cave of Whispers. With hearts racing, the friends entered the cave. Inside, it was cool and damp, the air filled with the echo of dripping water. Their flashlights cut through the darkness, revealing ancient rock formations and walls that seemed to hum with old secrets. As they ventured deeper, they found carvings on the cave walls—mysterious symbols that none of them could decipher. Mia, who had a keen interest in history, took several photos, hoping to research them later. Suddenly, Jake, who was leading, halted. Ahead, in a small clearing within the cave, lay a wooden chest. It was old and covered in dust, with intricate carvings that shimmered under their flashlight beams. The friends exchanged looks of awe and nervous excitement. Liam carefully opened the chest to reveal its contents: golden coins, sparkling jewels, and a parchment that looked centuries old. Emma carefully unfolded the parchment, revealing a message written in an elegant script. It read: To those who seek adventure, true treasure lies not in gold but in the journey and the friendships forged along the way. The friends sat back, the weight of the words sinking in. They realized that the real treasure was their shared adventure—the challenges they overcame together and the memories they created. As they left the cave, the sun was setting, casting a golden glow over the landscape. They didn’t take anything from the chest, choosing instead to leave it for the next group of adventurers. Back home, they shared their story, the mysterious symbols, and the sage words of the parchment. The Cave of Whispers had given them a treasure far greater than they had imagined: a story of friendship, courage, and adventure that they would cherish forever.\""
      ],
      "metadata": {
        "id": "bxWn-oiIGbSl"
      },
      "execution_count": 17,
      "outputs": []
    },
    {
      "cell_type": "code",
      "execution_count": null,
      "metadata": {
        "cellView": "form",
        "id": "G_00pjrVAPxs"
      },
      "outputs": [],
      "source": [
        "#@markdown ## ☁ Word Cloud of 'The Cave of Whipers'\n",
        "\n",
        "#!pip install wordcloud matplotlib\n",
        "\n",
        "from wordcloud import WordCloud\n",
        "import matplotlib.pyplot as plt\n",
        "\n",
        "# Generate word cloud\n",
        "\n",
        "wordcloud = WordCloud(width = 600, height = 600,\n",
        "                      background_color ='white',\n",
        "                      min_font_size = 10).generate(text)\n",
        "\n",
        "# Display the word cloud using matplotlib\n",
        "plt.figure(figsize = (6, 6), facecolor = None) # e.g., facecolor = \"gray\"\n",
        "plt.imshow(wordcloud)\n",
        "plt.axis(\"off\")\n",
        "plt.tight_layout(pad = 0)\n",
        "\n",
        "print(\"Title: The Cave of Whisper\") # 제목을 output에 프린트하고 싶을 때\n",
        "plt.show()\n",
        "plt.savefig('myimage.png')"
      ]
    },
    {
      "cell_type": "code",
      "source": [
        "#@markdown ## 🎥 'The Cave of Whispers' (Video/1m)\n",
        "\n",
        "# 유튜브 영상 만들어서 업로드하기~"
      ],
      "metadata": {
        "cellView": "form",
        "id": "lai4IrsjLq1M"
      },
      "execution_count": null,
      "outputs": []
    }
  ]
}