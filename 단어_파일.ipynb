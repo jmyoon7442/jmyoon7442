{
  "nbformat": 4,
  "nbformat_minor": 0,
  "metadata": {
    "colab": {
      "provenance": [],
      "authorship_tag": "ABX9TyNfsEY57auK5M9BlFjvVdeF",
      "include_colab_link": true
    },
    "kernelspec": {
      "name": "python3",
      "display_name": "Python 3"
    },
    "language_info": {
      "name": "python"
    }
  },
  "cells": [
    {
      "cell_type": "markdown",
      "metadata": {
        "id": "view-in-github",
        "colab_type": "text"
      },
      "source": [
        "<a href=\"https://colab.research.google.com/github/jmyoon7442/jmyoon7442/blob/main/%EB%8B%A8%EC%96%B4_%ED%8C%8C%EC%9D%BC.ipynb\" target=\"_parent\"><img src=\"https://colab.research.google.com/assets/colab-badge.svg\" alt=\"Open In Colab\"/></a>"
      ]
    },
    {
      "cell_type": "code",
      "source": [
        "!pip install nltk pandas"
      ],
      "metadata": {
        "id": "IvTyeuLkQ7Fr"
      },
      "execution_count": 1,
      "outputs": []
    },
    {
      "cell_type": "code",
      "execution_count": 3,
      "metadata": {
        "id": "XQETz_16Q2s6"
      },
      "outputs": [],
      "source": [
        "text = \"In the small town of Willow Creek, nestled between lush hills and a winding river, four friends—Emma, Jake, Mia, and Liam—stumbled upon an old map tucked inside a dusty library book titled 'Legends of the Lost.' The map depicted a hidden cave known only as the Cave of Whispers, rumored to hold a mysterious treasure that no one in Willow Creek had ever found. The friends, buzzing with excitement, planned an adventure to discover the cave. They packed their backpacks with essentials: flashlights, a compass, snacks, and a camera to document their journey. With the map as their guide, they set off early one Saturday morning, the summer sun casting long shadows through the forest. Their journey led them through thick woods where the light danced between the leaves, creating patterns on the forest floor. Birds chirped melodiously, providing a soundtrack to their expedition. After hours of hiking, the map directed them to a hidden path veiled by overgrown bushes. Pushing through, they finally came to a halt in front of a towering cliff face. In its center, concealed behind hanging vines, was the entrance to the Cave of Whispers. With hearts racing, the friends entered the cave. Inside, it was cool and damp, the air filled with the echo of dripping water. Their flashlights cut through the darkness, revealing ancient rock formations and walls that seemed to hum with old secrets. As they ventured deeper, they found carvings on the cave walls—mysterious symbols that none of them could decipher. Mia, who had a keen interest in history, took several photos, hoping to research them later. Suddenly, Jake, who was leading, halted. Ahead, in a small clearing within the cave, lay a wooden chest. It was old and covered in dust, with intricate carvings that shimmered under their flashlight beams. The friends exchanged looks of awe and nervous excitement. Liam carefully opened the chest to reveal its contents: golden coins, sparkling jewels, and a parchment that looked centuries old. Emma carefully unfolded the parchment, revealing a message written in an elegant script. It read: To those who seek adventure, true treasure lies not in gold but in the journey and the friendships forged along the way. The friends sat back, the weight of the words sinking in. They realized that the real treasure was their shared adventure—the challenges they overcame together and the memories they created. As they left the cave, the sun was setting, casting a golden glow over the landscape. They didn’t take anything from the chest, choosing instead to leave it for the next group of adventurers. Back home, they shared their story, the mysterious symbols, and the sage words of the parchment. The Cave of Whispers had given them a treasure far greater than they had imagined: a story of friendship, courage, and adventure that they would cherish forever.\""
      ]
    },
    {
      "cell_type": "code",
      "source": [
        "# Step 1: Import necessary libraries\n",
        "import nltk\n",
        "from nltk.corpus import stopwords\n",
        "from nltk.tokenize import word_tokenize\n",
        "from nltk.probability import FreqDist\n",
        "import re\n",
        "\n",
        "# Step 2: Download necessary NLTK resources\n",
        "nltk.download('punkt')\n",
        "nltk.download('stopwords')"
      ],
      "metadata": {
        "colab": {
          "base_uri": "https://localhost:8080/"
        },
        "id": "5yRcTnBcQ_nx",
        "outputId": "2a23e6bf-b4f5-44a4-bf68-829fb0561477"
      },
      "execution_count": 4,
      "outputs": [
        {
          "output_type": "stream",
          "name": "stderr",
          "text": [
            "[nltk_data] Downloading package punkt to /root/nltk_data...\n",
            "[nltk_data]   Unzipping tokenizers/punkt.zip.\n",
            "[nltk_data] Downloading package stopwords to /root/nltk_data...\n",
            "[nltk_data]   Unzipping corpora/stopwords.zip.\n"
          ]
        },
        {
          "output_type": "execute_result",
          "data": {
            "text/plain": [
              "True"
            ]
          },
          "metadata": {},
          "execution_count": 4
        }
      ]
    },
    {
      "cell_type": "code",
      "source": [
        "#@markdown Making a wordlist by frequency (as 'df' dataframe)\n",
        "\n",
        "# Step 3: Prepare the stop words # 관사, 대명사 등 많이 나오는 단어 빼기\n",
        "stop_words = set(stopwords.words('english'))\n",
        "\n",
        "# Add more custom stop words # 그런 stop word 리스트를 추가하고 싶을 때\n",
        "additional_stop_words = ['word1', 'word2']\n",
        "stop_words.update(additional_stop_words)\n",
        "\n",
        "# Step 4: Clean the text # 불필요한 기호 빼기\n",
        "# Use regular expressions to remove punctuation and numbers\n",
        "clean_text = re.sub(r'[^\\w\\s]', '', text)  # Remove punctuation\n",
        "clean_text = re.sub(r'\\d+', '', clean_text)  # Remove numbers\n",
        "\n",
        "# Step 5: Tokenize the text and remove stop words # 개별 단어로 정리\n",
        "words = word_tokenize(clean_text)\n",
        "filtered_words = [word.lower() for word in words if word.lower() not in stop_words]\n",
        "\n",
        "# print(clean_text)\n",
        "# print(\"Filtered words: \", filtered_words)\n",
        "\n",
        "# Step 6: Create frequency distribution # 똑같은 단어를 기준으로 세줌\n",
        "freq_dist = FreqDist(filtered_words)\n",
        "\n",
        "# Step 7: Convert frequency distribution to a sorted list of tuples (word, frequency)\n",
        "# 빈도순으로 정렬\n",
        "\n",
        "sorted_freq_list = sorted(freq_dist.items(), key=lambda x: x[1], reverse=True)\n",
        "\n",
        "# # Display the sorted frequency list\n",
        "# for word, frequency in sorted_freq_list:\n",
        "#     print(f'{word}: {frequency}')\n",
        "\n",
        "# Step 8: Convert frequency distribution to a DataFrame and a csv file\n",
        "# 칼럼으로 만들어 엑셀 파일로 만들어 준다.\n",
        "import pandas as pd\n",
        "\n",
        "df = pd.DataFrame(sorted_freq_list, columns=['Word', 'Frequency'])\n",
        "\n",
        "print(f\"Number of words: {len(filtered_words)}\")\n"
      ],
      "metadata": {
        "colab": {
          "base_uri": "https://localhost:8080/"
        },
        "id": "6xFqdqafRhHO",
        "outputId": "1f441db5-7b06-4a71-c01b-2af5f6d3e277"
      },
      "execution_count": 5,
      "outputs": [
        {
          "output_type": "stream",
          "name": "stdout",
          "text": [
            "Number of words: 275\n"
          ]
        }
      ]
    },
    {
      "cell_type": "code",
      "source": [
        "# Step 9: Save the DataFrame to a CSV file\n",
        "\n",
        "df.to_csv(\"wordlist.csv\", index=False)\n",
        "\n",
        "#왼쪽 파일 아이콘을 누르면 거기에 파일이 저장되어 있다."
      ],
      "metadata": {
        "id": "jELbje3jRpur"
      },
      "execution_count": 6,
      "outputs": []
    }
  ]
}