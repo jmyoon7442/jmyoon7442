{
  "nbformat": 4,
  "nbformat_minor": 0,
  "metadata": {
    "colab": {
      "provenance": [],
      "toc_visible": true,
      "authorship_tag": "ABX9TyOrjpXT015Lh7oSOI/LNDUL",
      "include_colab_link": true
    },
    "kernelspec": {
      "name": "python3",
      "display_name": "Python 3"
    },
    "language_info": {
      "name": "python"
    },
    "widgets": {
      "application/vnd.jupyter.widget-state+json": {
        "ab5c3e0af4934a0a90b61532dd36e4f7": {
          "model_module": "@jupyter-widgets/output",
          "model_name": "OutputModel",
          "model_module_version": "1.0.0",
          "state": {
            "_dom_classes": [],
            "_model_module": "@jupyter-widgets/output",
            "_model_module_version": "1.0.0",
            "_model_name": "OutputModel",
            "_view_count": null,
            "_view_module": "@jupyter-widgets/output",
            "_view_module_version": "1.0.0",
            "_view_name": "OutputView",
            "layout": "IPY_MODEL_e87af527170043a793a00fbfafec6f08",
            "msg_id": "",
            "outputs": []
          }
        },
        "e87af527170043a793a00fbfafec6f08": {
          "model_module": "@jupyter-widgets/base",
          "model_name": "LayoutModel",
          "model_module_version": "1.2.0",
          "state": {
            "_model_module": "@jupyter-widgets/base",
            "_model_module_version": "1.2.0",
            "_model_name": "LayoutModel",
            "_view_count": null,
            "_view_module": "@jupyter-widgets/base",
            "_view_module_version": "1.2.0",
            "_view_name": "LayoutView",
            "align_content": null,
            "align_items": null,
            "align_self": null,
            "border": null,
            "bottom": null,
            "display": null,
            "flex": null,
            "flex_flow": null,
            "grid_area": null,
            "grid_auto_columns": null,
            "grid_auto_flow": null,
            "grid_auto_rows": null,
            "grid_column": null,
            "grid_gap": null,
            "grid_row": null,
            "grid_template_areas": null,
            "grid_template_columns": null,
            "grid_template_rows": null,
            "height": null,
            "justify_content": null,
            "justify_items": null,
            "left": null,
            "margin": null,
            "max_height": null,
            "max_width": null,
            "min_height": null,
            "min_width": null,
            "object_fit": null,
            "object_position": null,
            "order": null,
            "overflow": null,
            "overflow_x": null,
            "overflow_y": null,
            "padding": null,
            "right": null,
            "top": null,
            "visibility": null,
            "width": null
          }
        },
        "ad6242a45daf43b2b328ab212a337f1a": {
          "model_module": "@jupyter-widgets/controls",
          "model_name": "VBoxModel",
          "model_module_version": "1.5.0",
          "state": {
            "_dom_classes": [],
            "_model_module": "@jupyter-widgets/controls",
            "_model_module_version": "1.5.0",
            "_model_name": "VBoxModel",
            "_view_count": null,
            "_view_module": "@jupyter-widgets/controls",
            "_view_module_version": "1.5.0",
            "_view_name": "VBoxView",
            "box_style": "",
            "children": [
              "IPY_MODEL_5544888b418a4da797056c54af01e0e7",
              "IPY_MODEL_cf22b046d70a4873bdc6a87feeb1f675",
              "IPY_MODEL_dbb89ea7d2ff4fa8ae3c13715715e59d",
              "IPY_MODEL_ce725cc573f348c1adba6e62bde46a9a",
              "IPY_MODEL_fb2db93d987a40648908e70ef122d694",
              "IPY_MODEL_4ee2e2b200684b08b975dee49b7b81f3"
            ],
            "layout": "IPY_MODEL_b977dd81b9c94b70a6857dcb9c25cd6f"
          }
        },
        "5544888b418a4da797056c54af01e0e7": {
          "model_module": "@jupyter-widgets/controls",
          "model_name": "TextModel",
          "model_module_version": "1.5.0",
          "state": {
            "_dom_classes": [],
            "_model_module": "@jupyter-widgets/controls",
            "_model_module_version": "1.5.0",
            "_model_name": "TextModel",
            "_view_count": null,
            "_view_module": "@jupyter-widgets/controls",
            "_view_module_version": "1.5.0",
            "_view_name": "TextView",
            "continuous_update": true,
            "description": "Calculation:",
            "description_tooltip": null,
            "disabled": false,
            "layout": "IPY_MODEL_4c69576a78a8467fb30f19d64908cbe5",
            "placeholder": "Type something",
            "style": "IPY_MODEL_34ec0b045af94bc9be08de10d42d919c",
            "value": ""
          }
        },
        "cf22b046d70a4873bdc6a87feeb1f675": {
          "model_module": "@jupyter-widgets/controls",
          "model_name": "HBoxModel",
          "model_module_version": "1.5.0",
          "state": {
            "_dom_classes": [],
            "_model_module": "@jupyter-widgets/controls",
            "_model_module_version": "1.5.0",
            "_model_name": "HBoxModel",
            "_view_count": null,
            "_view_module": "@jupyter-widgets/controls",
            "_view_module_version": "1.5.0",
            "_view_name": "HBoxView",
            "box_style": "",
            "children": [
              "IPY_MODEL_fe11a13aeda549ed87be3bf2e1c6bfd5",
              "IPY_MODEL_ad394013c8d14020905e450598b36fcc",
              "IPY_MODEL_798d5f617cd742e7942009f84fa7e43e",
              "IPY_MODEL_62d105671553435a93111df378e5a6fa"
            ],
            "layout": "IPY_MODEL_c428f3551ccf49f8acb30e291842aab9"
          }
        },
        "dbb89ea7d2ff4fa8ae3c13715715e59d": {
          "model_module": "@jupyter-widgets/controls",
          "model_name": "HBoxModel",
          "model_module_version": "1.5.0",
          "state": {
            "_dom_classes": [],
            "_model_module": "@jupyter-widgets/controls",
            "_model_module_version": "1.5.0",
            "_model_name": "HBoxModel",
            "_view_count": null,
            "_view_module": "@jupyter-widgets/controls",
            "_view_module_version": "1.5.0",
            "_view_name": "HBoxView",
            "box_style": "",
            "children": [
              "IPY_MODEL_ae9557a11ce1447597ac93af949d73c2",
              "IPY_MODEL_4a6623e1ffed4bd8b4a3f4897f2cc7d8",
              "IPY_MODEL_67837a455f764836871e3ac61ff095fa",
              "IPY_MODEL_adba705de83e49d782d5411e04a657f4"
            ],
            "layout": "IPY_MODEL_953d3dc0db44491c9bf263d6a8272e17"
          }
        },
        "ce725cc573f348c1adba6e62bde46a9a": {
          "model_module": "@jupyter-widgets/controls",
          "model_name": "HBoxModel",
          "model_module_version": "1.5.0",
          "state": {
            "_dom_classes": [],
            "_model_module": "@jupyter-widgets/controls",
            "_model_module_version": "1.5.0",
            "_model_name": "HBoxModel",
            "_view_count": null,
            "_view_module": "@jupyter-widgets/controls",
            "_view_module_version": "1.5.0",
            "_view_name": "HBoxView",
            "box_style": "",
            "children": [
              "IPY_MODEL_90843c54994e4c21ab51440f42a7cc4a",
              "IPY_MODEL_0604d285dcd94464b1b7bba529bf561b",
              "IPY_MODEL_80e3a9d636784317bf7ae35668790bb1",
              "IPY_MODEL_c594d7208b76460c9db76629837c5a24"
            ],
            "layout": "IPY_MODEL_2ffa2d00b2b94387a1e7d4ebd6436ab0"
          }
        },
        "fb2db93d987a40648908e70ef122d694": {
          "model_module": "@jupyter-widgets/controls",
          "model_name": "HBoxModel",
          "model_module_version": "1.5.0",
          "state": {
            "_dom_classes": [],
            "_model_module": "@jupyter-widgets/controls",
            "_model_module_version": "1.5.0",
            "_model_name": "HBoxModel",
            "_view_count": null,
            "_view_module": "@jupyter-widgets/controls",
            "_view_module_version": "1.5.0",
            "_view_name": "HBoxView",
            "box_style": "",
            "children": [
              "IPY_MODEL_b6053100212044cf94101f8f31736db3",
              "IPY_MODEL_3369c4e58f024014b791a5c7bb53c393",
              "IPY_MODEL_02c0f7807b1c432b9cff0520c0d47514",
              "IPY_MODEL_510fbb319eff4111a93815b80c39bb32"
            ],
            "layout": "IPY_MODEL_17a16ea2f0d04ad5913399df56d2ebd8"
          }
        },
        "4ee2e2b200684b08b975dee49b7b81f3": {
          "model_module": "@jupyter-widgets/controls",
          "model_name": "HBoxModel",
          "model_module_version": "1.5.0",
          "state": {
            "_dom_classes": [],
            "_model_module": "@jupyter-widgets/controls",
            "_model_module_version": "1.5.0",
            "_model_name": "HBoxModel",
            "_view_count": null,
            "_view_module": "@jupyter-widgets/controls",
            "_view_module_version": "1.5.0",
            "_view_name": "HBoxView",
            "box_style": "",
            "children": [
              "IPY_MODEL_61116605ea354d7dbe58ce71a7da579b"
            ],
            "layout": "IPY_MODEL_7e6bf0c0a71a48aab61393dba17f8fc1"
          }
        },
        "b977dd81b9c94b70a6857dcb9c25cd6f": {
          "model_module": "@jupyter-widgets/base",
          "model_name": "LayoutModel",
          "model_module_version": "1.2.0",
          "state": {
            "_model_module": "@jupyter-widgets/base",
            "_model_module_version": "1.2.0",
            "_model_name": "LayoutModel",
            "_view_count": null,
            "_view_module": "@jupyter-widgets/base",
            "_view_module_version": "1.2.0",
            "_view_name": "LayoutView",
            "align_content": null,
            "align_items": null,
            "align_self": null,
            "border": null,
            "bottom": null,
            "display": null,
            "flex": null,
            "flex_flow": null,
            "grid_area": null,
            "grid_auto_columns": null,
            "grid_auto_flow": null,
            "grid_auto_rows": null,
            "grid_column": null,
            "grid_gap": null,
            "grid_row": null,
            "grid_template_areas": null,
            "grid_template_columns": null,
            "grid_template_rows": null,
            "height": null,
            "justify_content": null,
            "justify_items": null,
            "left": null,
            "margin": null,
            "max_height": null,
            "max_width": null,
            "min_height": null,
            "min_width": null,
            "object_fit": null,
            "object_position": null,
            "order": null,
            "overflow": null,
            "overflow_x": null,
            "overflow_y": null,
            "padding": null,
            "right": null,
            "top": null,
            "visibility": null,
            "width": null
          }
        },
        "4c69576a78a8467fb30f19d64908cbe5": {
          "model_module": "@jupyter-widgets/base",
          "model_name": "LayoutModel",
          "model_module_version": "1.2.0",
          "state": {
            "_model_module": "@jupyter-widgets/base",
            "_model_module_version": "1.2.0",
            "_model_name": "LayoutModel",
            "_view_count": null,
            "_view_module": "@jupyter-widgets/base",
            "_view_module_version": "1.2.0",
            "_view_name": "LayoutView",
            "align_content": null,
            "align_items": null,
            "align_self": null,
            "border": null,
            "bottom": null,
            "display": null,
            "flex": null,
            "flex_flow": null,
            "grid_area": null,
            "grid_auto_columns": null,
            "grid_auto_flow": null,
            "grid_auto_rows": null,
            "grid_column": null,
            "grid_gap": null,
            "grid_row": null,
            "grid_template_areas": null,
            "grid_template_columns": null,
            "grid_template_rows": null,
            "height": null,
            "justify_content": null,
            "justify_items": null,
            "left": null,
            "margin": null,
            "max_height": null,
            "max_width": null,
            "min_height": null,
            "min_width": null,
            "object_fit": null,
            "object_position": null,
            "order": null,
            "overflow": null,
            "overflow_x": null,
            "overflow_y": null,
            "padding": null,
            "right": null,
            "top": null,
            "visibility": null,
            "width": null
          }
        },
        "34ec0b045af94bc9be08de10d42d919c": {
          "model_module": "@jupyter-widgets/controls",
          "model_name": "DescriptionStyleModel",
          "model_module_version": "1.5.0",
          "state": {
            "_model_module": "@jupyter-widgets/controls",
            "_model_module_version": "1.5.0",
            "_model_name": "DescriptionStyleModel",
            "_view_count": null,
            "_view_module": "@jupyter-widgets/base",
            "_view_module_version": "1.2.0",
            "_view_name": "StyleView",
            "description_width": ""
          }
        },
        "fe11a13aeda549ed87be3bf2e1c6bfd5": {
          "model_module": "@jupyter-widgets/controls",
          "model_name": "ButtonModel",
          "model_module_version": "1.5.0",
          "state": {
            "_dom_classes": [],
            "_model_module": "@jupyter-widgets/controls",
            "_model_module_version": "1.5.0",
            "_model_name": "ButtonModel",
            "_view_count": null,
            "_view_module": "@jupyter-widgets/controls",
            "_view_module_version": "1.5.0",
            "_view_name": "ButtonView",
            "button_style": "",
            "description": "7",
            "disabled": false,
            "icon": "",
            "layout": "IPY_MODEL_22ce5d4351a3470286f61a4ec096db92",
            "style": "IPY_MODEL_bf2c24484b694d50a690faaf3731ceba",
            "tooltip": ""
          }
        },
        "ad394013c8d14020905e450598b36fcc": {
          "model_module": "@jupyter-widgets/controls",
          "model_name": "ButtonModel",
          "model_module_version": "1.5.0",
          "state": {
            "_dom_classes": [],
            "_model_module": "@jupyter-widgets/controls",
            "_model_module_version": "1.5.0",
            "_model_name": "ButtonModel",
            "_view_count": null,
            "_view_module": "@jupyter-widgets/controls",
            "_view_module_version": "1.5.0",
            "_view_name": "ButtonView",
            "button_style": "",
            "description": "8",
            "disabled": false,
            "icon": "",
            "layout": "IPY_MODEL_22ce5d4351a3470286f61a4ec096db92",
            "style": "IPY_MODEL_db1f5ee3ee4f4ccdad971bae403021da",
            "tooltip": ""
          }
        },
        "798d5f617cd742e7942009f84fa7e43e": {
          "model_module": "@jupyter-widgets/controls",
          "model_name": "ButtonModel",
          "model_module_version": "1.5.0",
          "state": {
            "_dom_classes": [],
            "_model_module": "@jupyter-widgets/controls",
            "_model_module_version": "1.5.0",
            "_model_name": "ButtonModel",
            "_view_count": null,
            "_view_module": "@jupyter-widgets/controls",
            "_view_module_version": "1.5.0",
            "_view_name": "ButtonView",
            "button_style": "",
            "description": "9",
            "disabled": false,
            "icon": "",
            "layout": "IPY_MODEL_22ce5d4351a3470286f61a4ec096db92",
            "style": "IPY_MODEL_d6fb6c058ef54d5083c93462a4e3191f",
            "tooltip": ""
          }
        },
        "62d105671553435a93111df378e5a6fa": {
          "model_module": "@jupyter-widgets/controls",
          "model_name": "ButtonModel",
          "model_module_version": "1.5.0",
          "state": {
            "_dom_classes": [],
            "_model_module": "@jupyter-widgets/controls",
            "_model_module_version": "1.5.0",
            "_model_name": "ButtonModel",
            "_view_count": null,
            "_view_module": "@jupyter-widgets/controls",
            "_view_module_version": "1.5.0",
            "_view_name": "ButtonView",
            "button_style": "",
            "description": "÷",
            "disabled": false,
            "icon": "",
            "layout": "IPY_MODEL_22ce5d4351a3470286f61a4ec096db92",
            "style": "IPY_MODEL_bd495a065d7041918428a1f0f4bcc9de",
            "tooltip": ""
          }
        },
        "c428f3551ccf49f8acb30e291842aab9": {
          "model_module": "@jupyter-widgets/base",
          "model_name": "LayoutModel",
          "model_module_version": "1.2.0",
          "state": {
            "_model_module": "@jupyter-widgets/base",
            "_model_module_version": "1.2.0",
            "_model_name": "LayoutModel",
            "_view_count": null,
            "_view_module": "@jupyter-widgets/base",
            "_view_module_version": "1.2.0",
            "_view_name": "LayoutView",
            "align_content": null,
            "align_items": null,
            "align_self": null,
            "border": null,
            "bottom": null,
            "display": null,
            "flex": null,
            "flex_flow": null,
            "grid_area": null,
            "grid_auto_columns": null,
            "grid_auto_flow": null,
            "grid_auto_rows": null,
            "grid_column": null,
            "grid_gap": null,
            "grid_row": null,
            "grid_template_areas": null,
            "grid_template_columns": null,
            "grid_template_rows": null,
            "height": null,
            "justify_content": null,
            "justify_items": null,
            "left": null,
            "margin": null,
            "max_height": null,
            "max_width": null,
            "min_height": null,
            "min_width": null,
            "object_fit": null,
            "object_position": null,
            "order": null,
            "overflow": null,
            "overflow_x": null,
            "overflow_y": null,
            "padding": null,
            "right": null,
            "top": null,
            "visibility": null,
            "width": null
          }
        },
        "ae9557a11ce1447597ac93af949d73c2": {
          "model_module": "@jupyter-widgets/controls",
          "model_name": "ButtonModel",
          "model_module_version": "1.5.0",
          "state": {
            "_dom_classes": [],
            "_model_module": "@jupyter-widgets/controls",
            "_model_module_version": "1.5.0",
            "_model_name": "ButtonModel",
            "_view_count": null,
            "_view_module": "@jupyter-widgets/controls",
            "_view_module_version": "1.5.0",
            "_view_name": "ButtonView",
            "button_style": "",
            "description": "4",
            "disabled": false,
            "icon": "",
            "layout": "IPY_MODEL_22ce5d4351a3470286f61a4ec096db92",
            "style": "IPY_MODEL_4f795e11c51b4e85b5a11ef1a94cc277",
            "tooltip": ""
          }
        },
        "4a6623e1ffed4bd8b4a3f4897f2cc7d8": {
          "model_module": "@jupyter-widgets/controls",
          "model_name": "ButtonModel",
          "model_module_version": "1.5.0",
          "state": {
            "_dom_classes": [],
            "_model_module": "@jupyter-widgets/controls",
            "_model_module_version": "1.5.0",
            "_model_name": "ButtonModel",
            "_view_count": null,
            "_view_module": "@jupyter-widgets/controls",
            "_view_module_version": "1.5.0",
            "_view_name": "ButtonView",
            "button_style": "",
            "description": "5",
            "disabled": false,
            "icon": "",
            "layout": "IPY_MODEL_22ce5d4351a3470286f61a4ec096db92",
            "style": "IPY_MODEL_09a959983b6c40e1bd29393361d56e2f",
            "tooltip": ""
          }
        },
        "67837a455f764836871e3ac61ff095fa": {
          "model_module": "@jupyter-widgets/controls",
          "model_name": "ButtonModel",
          "model_module_version": "1.5.0",
          "state": {
            "_dom_classes": [],
            "_model_module": "@jupyter-widgets/controls",
            "_model_module_version": "1.5.0",
            "_model_name": "ButtonModel",
            "_view_count": null,
            "_view_module": "@jupyter-widgets/controls",
            "_view_module_version": "1.5.0",
            "_view_name": "ButtonView",
            "button_style": "",
            "description": "6",
            "disabled": false,
            "icon": "",
            "layout": "IPY_MODEL_22ce5d4351a3470286f61a4ec096db92",
            "style": "IPY_MODEL_e782a9b2b479431e9047667de5d2e9cb",
            "tooltip": ""
          }
        },
        "adba705de83e49d782d5411e04a657f4": {
          "model_module": "@jupyter-widgets/controls",
          "model_name": "ButtonModel",
          "model_module_version": "1.5.0",
          "state": {
            "_dom_classes": [],
            "_model_module": "@jupyter-widgets/controls",
            "_model_module_version": "1.5.0",
            "_model_name": "ButtonModel",
            "_view_count": null,
            "_view_module": "@jupyter-widgets/controls",
            "_view_module_version": "1.5.0",
            "_view_name": "ButtonView",
            "button_style": "",
            "description": "×",
            "disabled": false,
            "icon": "",
            "layout": "IPY_MODEL_22ce5d4351a3470286f61a4ec096db92",
            "style": "IPY_MODEL_30dd9f3c4ab343599488c95734603f20",
            "tooltip": ""
          }
        },
        "953d3dc0db44491c9bf263d6a8272e17": {
          "model_module": "@jupyter-widgets/base",
          "model_name": "LayoutModel",
          "model_module_version": "1.2.0",
          "state": {
            "_model_module": "@jupyter-widgets/base",
            "_model_module_version": "1.2.0",
            "_model_name": "LayoutModel",
            "_view_count": null,
            "_view_module": "@jupyter-widgets/base",
            "_view_module_version": "1.2.0",
            "_view_name": "LayoutView",
            "align_content": null,
            "align_items": null,
            "align_self": null,
            "border": null,
            "bottom": null,
            "display": null,
            "flex": null,
            "flex_flow": null,
            "grid_area": null,
            "grid_auto_columns": null,
            "grid_auto_flow": null,
            "grid_auto_rows": null,
            "grid_column": null,
            "grid_gap": null,
            "grid_row": null,
            "grid_template_areas": null,
            "grid_template_columns": null,
            "grid_template_rows": null,
            "height": null,
            "justify_content": null,
            "justify_items": null,
            "left": null,
            "margin": null,
            "max_height": null,
            "max_width": null,
            "min_height": null,
            "min_width": null,
            "object_fit": null,
            "object_position": null,
            "order": null,
            "overflow": null,
            "overflow_x": null,
            "overflow_y": null,
            "padding": null,
            "right": null,
            "top": null,
            "visibility": null,
            "width": null
          }
        },
        "90843c54994e4c21ab51440f42a7cc4a": {
          "model_module": "@jupyter-widgets/controls",
          "model_name": "ButtonModel",
          "model_module_version": "1.5.0",
          "state": {
            "_dom_classes": [],
            "_model_module": "@jupyter-widgets/controls",
            "_model_module_version": "1.5.0",
            "_model_name": "ButtonModel",
            "_view_count": null,
            "_view_module": "@jupyter-widgets/controls",
            "_view_module_version": "1.5.0",
            "_view_name": "ButtonView",
            "button_style": "",
            "description": "1",
            "disabled": false,
            "icon": "",
            "layout": "IPY_MODEL_22ce5d4351a3470286f61a4ec096db92",
            "style": "IPY_MODEL_fb8abf142bc041d880e6e0b87bdd61ae",
            "tooltip": ""
          }
        },
        "0604d285dcd94464b1b7bba529bf561b": {
          "model_module": "@jupyter-widgets/controls",
          "model_name": "ButtonModel",
          "model_module_version": "1.5.0",
          "state": {
            "_dom_classes": [],
            "_model_module": "@jupyter-widgets/controls",
            "_model_module_version": "1.5.0",
            "_model_name": "ButtonModel",
            "_view_count": null,
            "_view_module": "@jupyter-widgets/controls",
            "_view_module_version": "1.5.0",
            "_view_name": "ButtonView",
            "button_style": "",
            "description": "2",
            "disabled": false,
            "icon": "",
            "layout": "IPY_MODEL_22ce5d4351a3470286f61a4ec096db92",
            "style": "IPY_MODEL_4a06ba7aa8934388a2850a4bb7caa1ce",
            "tooltip": ""
          }
        },
        "80e3a9d636784317bf7ae35668790bb1": {
          "model_module": "@jupyter-widgets/controls",
          "model_name": "ButtonModel",
          "model_module_version": "1.5.0",
          "state": {
            "_dom_classes": [],
            "_model_module": "@jupyter-widgets/controls",
            "_model_module_version": "1.5.0",
            "_model_name": "ButtonModel",
            "_view_count": null,
            "_view_module": "@jupyter-widgets/controls",
            "_view_module_version": "1.5.0",
            "_view_name": "ButtonView",
            "button_style": "",
            "description": "3",
            "disabled": false,
            "icon": "",
            "layout": "IPY_MODEL_22ce5d4351a3470286f61a4ec096db92",
            "style": "IPY_MODEL_08c58aed56254b43ac9dc59577503ff7",
            "tooltip": ""
          }
        },
        "c594d7208b76460c9db76629837c5a24": {
          "model_module": "@jupyter-widgets/controls",
          "model_name": "ButtonModel",
          "model_module_version": "1.5.0",
          "state": {
            "_dom_classes": [],
            "_model_module": "@jupyter-widgets/controls",
            "_model_module_version": "1.5.0",
            "_model_name": "ButtonModel",
            "_view_count": null,
            "_view_module": "@jupyter-widgets/controls",
            "_view_module_version": "1.5.0",
            "_view_name": "ButtonView",
            "button_style": "",
            "description": "-",
            "disabled": false,
            "icon": "",
            "layout": "IPY_MODEL_22ce5d4351a3470286f61a4ec096db92",
            "style": "IPY_MODEL_6d74923c295e4f59bf6b8338f9dc5eb3",
            "tooltip": ""
          }
        },
        "2ffa2d00b2b94387a1e7d4ebd6436ab0": {
          "model_module": "@jupyter-widgets/base",
          "model_name": "LayoutModel",
          "model_module_version": "1.2.0",
          "state": {
            "_model_module": "@jupyter-widgets/base",
            "_model_module_version": "1.2.0",
            "_model_name": "LayoutModel",
            "_view_count": null,
            "_view_module": "@jupyter-widgets/base",
            "_view_module_version": "1.2.0",
            "_view_name": "LayoutView",
            "align_content": null,
            "align_items": null,
            "align_self": null,
            "border": null,
            "bottom": null,
            "display": null,
            "flex": null,
            "flex_flow": null,
            "grid_area": null,
            "grid_auto_columns": null,
            "grid_auto_flow": null,
            "grid_auto_rows": null,
            "grid_column": null,
            "grid_gap": null,
            "grid_row": null,
            "grid_template_areas": null,
            "grid_template_columns": null,
            "grid_template_rows": null,
            "height": null,
            "justify_content": null,
            "justify_items": null,
            "left": null,
            "margin": null,
            "max_height": null,
            "max_width": null,
            "min_height": null,
            "min_width": null,
            "object_fit": null,
            "object_position": null,
            "order": null,
            "overflow": null,
            "overflow_x": null,
            "overflow_y": null,
            "padding": null,
            "right": null,
            "top": null,
            "visibility": null,
            "width": null
          }
        },
        "b6053100212044cf94101f8f31736db3": {
          "model_module": "@jupyter-widgets/controls",
          "model_name": "ButtonModel",
          "model_module_version": "1.5.0",
          "state": {
            "_dom_classes": [],
            "_model_module": "@jupyter-widgets/controls",
            "_model_module_version": "1.5.0",
            "_model_name": "ButtonModel",
            "_view_count": null,
            "_view_module": "@jupyter-widgets/controls",
            "_view_module_version": "1.5.0",
            "_view_name": "ButtonView",
            "button_style": "",
            "description": "0",
            "disabled": false,
            "icon": "",
            "layout": "IPY_MODEL_22ce5d4351a3470286f61a4ec096db92",
            "style": "IPY_MODEL_61749e5a95d742c79f91c2987a3cd75a",
            "tooltip": ""
          }
        },
        "3369c4e58f024014b791a5c7bb53c393": {
          "model_module": "@jupyter-widgets/controls",
          "model_name": "ButtonModel",
          "model_module_version": "1.5.0",
          "state": {
            "_dom_classes": [],
            "_model_module": "@jupyter-widgets/controls",
            "_model_module_version": "1.5.0",
            "_model_name": "ButtonModel",
            "_view_count": null,
            "_view_module": "@jupyter-widgets/controls",
            "_view_module_version": "1.5.0",
            "_view_name": "ButtonView",
            "button_style": "",
            "description": ".",
            "disabled": false,
            "icon": "",
            "layout": "IPY_MODEL_22ce5d4351a3470286f61a4ec096db92",
            "style": "IPY_MODEL_f2c8a090189444b2abb382f766d62099",
            "tooltip": ""
          }
        },
        "02c0f7807b1c432b9cff0520c0d47514": {
          "model_module": "@jupyter-widgets/controls",
          "model_name": "ButtonModel",
          "model_module_version": "1.5.0",
          "state": {
            "_dom_classes": [],
            "_model_module": "@jupyter-widgets/controls",
            "_model_module_version": "1.5.0",
            "_model_name": "ButtonModel",
            "_view_count": null,
            "_view_module": "@jupyter-widgets/controls",
            "_view_module_version": "1.5.0",
            "_view_name": "ButtonView",
            "button_style": "",
            "description": "=",
            "disabled": false,
            "icon": "",
            "layout": "IPY_MODEL_22ce5d4351a3470286f61a4ec096db92",
            "style": "IPY_MODEL_f8c9414ea0c74f049c2efb426ecd15ee",
            "tooltip": ""
          }
        },
        "510fbb319eff4111a93815b80c39bb32": {
          "model_module": "@jupyter-widgets/controls",
          "model_name": "ButtonModel",
          "model_module_version": "1.5.0",
          "state": {
            "_dom_classes": [],
            "_model_module": "@jupyter-widgets/controls",
            "_model_module_version": "1.5.0",
            "_model_name": "ButtonModel",
            "_view_count": null,
            "_view_module": "@jupyter-widgets/controls",
            "_view_module_version": "1.5.0",
            "_view_name": "ButtonView",
            "button_style": "",
            "description": "+",
            "disabled": false,
            "icon": "",
            "layout": "IPY_MODEL_22ce5d4351a3470286f61a4ec096db92",
            "style": "IPY_MODEL_78fc1735a0474447a5a094007d64599e",
            "tooltip": ""
          }
        },
        "17a16ea2f0d04ad5913399df56d2ebd8": {
          "model_module": "@jupyter-widgets/base",
          "model_name": "LayoutModel",
          "model_module_version": "1.2.0",
          "state": {
            "_model_module": "@jupyter-widgets/base",
            "_model_module_version": "1.2.0",
            "_model_name": "LayoutModel",
            "_view_count": null,
            "_view_module": "@jupyter-widgets/base",
            "_view_module_version": "1.2.0",
            "_view_name": "LayoutView",
            "align_content": null,
            "align_items": null,
            "align_self": null,
            "border": null,
            "bottom": null,
            "display": null,
            "flex": null,
            "flex_flow": null,
            "grid_area": null,
            "grid_auto_columns": null,
            "grid_auto_flow": null,
            "grid_auto_rows": null,
            "grid_column": null,
            "grid_gap": null,
            "grid_row": null,
            "grid_template_areas": null,
            "grid_template_columns": null,
            "grid_template_rows": null,
            "height": null,
            "justify_content": null,
            "justify_items": null,
            "left": null,
            "margin": null,
            "max_height": null,
            "max_width": null,
            "min_height": null,
            "min_width": null,
            "object_fit": null,
            "object_position": null,
            "order": null,
            "overflow": null,
            "overflow_x": null,
            "overflow_y": null,
            "padding": null,
            "right": null,
            "top": null,
            "visibility": null,
            "width": null
          }
        },
        "61116605ea354d7dbe58ce71a7da579b": {
          "model_module": "@jupyter-widgets/controls",
          "model_name": "ButtonModel",
          "model_module_version": "1.5.0",
          "state": {
            "_dom_classes": [],
            "_model_module": "@jupyter-widgets/controls",
            "_model_module_version": "1.5.0",
            "_model_name": "ButtonModel",
            "_view_count": null,
            "_view_module": "@jupyter-widgets/controls",
            "_view_module_version": "1.5.0",
            "_view_name": "ButtonView",
            "button_style": "",
            "description": "Clear",
            "disabled": false,
            "icon": "",
            "layout": "IPY_MODEL_22ce5d4351a3470286f61a4ec096db92",
            "style": "IPY_MODEL_ec479a05869c4e249ea45ebdf9c7886b",
            "tooltip": ""
          }
        },
        "7e6bf0c0a71a48aab61393dba17f8fc1": {
          "model_module": "@jupyter-widgets/base",
          "model_name": "LayoutModel",
          "model_module_version": "1.2.0",
          "state": {
            "_model_module": "@jupyter-widgets/base",
            "_model_module_version": "1.2.0",
            "_model_name": "LayoutModel",
            "_view_count": null,
            "_view_module": "@jupyter-widgets/base",
            "_view_module_version": "1.2.0",
            "_view_name": "LayoutView",
            "align_content": null,
            "align_items": null,
            "align_self": null,
            "border": null,
            "bottom": null,
            "display": null,
            "flex": null,
            "flex_flow": null,
            "grid_area": null,
            "grid_auto_columns": null,
            "grid_auto_flow": null,
            "grid_auto_rows": null,
            "grid_column": null,
            "grid_gap": null,
            "grid_row": null,
            "grid_template_areas": null,
            "grid_template_columns": null,
            "grid_template_rows": null,
            "height": null,
            "justify_content": null,
            "justify_items": null,
            "left": null,
            "margin": null,
            "max_height": null,
            "max_width": null,
            "min_height": null,
            "min_width": null,
            "object_fit": null,
            "object_position": null,
            "order": null,
            "overflow": null,
            "overflow_x": null,
            "overflow_y": null,
            "padding": null,
            "right": null,
            "top": null,
            "visibility": null,
            "width": null
          }
        },
        "22ce5d4351a3470286f61a4ec096db92": {
          "model_module": "@jupyter-widgets/base",
          "model_name": "LayoutModel",
          "model_module_version": "1.2.0",
          "state": {
            "_model_module": "@jupyter-widgets/base",
            "_model_module_version": "1.2.0",
            "_model_name": "LayoutModel",
            "_view_count": null,
            "_view_module": "@jupyter-widgets/base",
            "_view_module_version": "1.2.0",
            "_view_name": "LayoutView",
            "align_content": null,
            "align_items": null,
            "align_self": null,
            "border": null,
            "bottom": null,
            "display": null,
            "flex": null,
            "flex_flow": null,
            "grid_area": null,
            "grid_auto_columns": null,
            "grid_auto_flow": null,
            "grid_auto_rows": null,
            "grid_column": null,
            "grid_gap": null,
            "grid_row": null,
            "grid_template_areas": null,
            "grid_template_columns": null,
            "grid_template_rows": null,
            "height": "75px",
            "justify_content": null,
            "justify_items": null,
            "left": null,
            "margin": "5px",
            "max_height": null,
            "max_width": null,
            "min_height": null,
            "min_width": null,
            "object_fit": null,
            "object_position": null,
            "order": null,
            "overflow": null,
            "overflow_x": null,
            "overflow_y": null,
            "padding": null,
            "right": null,
            "top": null,
            "visibility": null,
            "width": "75px"
          }
        },
        "bf2c24484b694d50a690faaf3731ceba": {
          "model_module": "@jupyter-widgets/controls",
          "model_name": "ButtonStyleModel",
          "model_module_version": "1.5.0",
          "state": {
            "_model_module": "@jupyter-widgets/controls",
            "_model_module_version": "1.5.0",
            "_model_name": "ButtonStyleModel",
            "_view_count": null,
            "_view_module": "@jupyter-widgets/base",
            "_view_module_version": "1.2.0",
            "_view_name": "StyleView",
            "button_color": "orange",
            "font_weight": ""
          }
        },
        "db1f5ee3ee4f4ccdad971bae403021da": {
          "model_module": "@jupyter-widgets/controls",
          "model_name": "ButtonStyleModel",
          "model_module_version": "1.5.0",
          "state": {
            "_model_module": "@jupyter-widgets/controls",
            "_model_module_version": "1.5.0",
            "_model_name": "ButtonStyleModel",
            "_view_count": null,
            "_view_module": "@jupyter-widgets/base",
            "_view_module_version": "1.2.0",
            "_view_name": "StyleView",
            "button_color": "orange",
            "font_weight": ""
          }
        },
        "d6fb6c058ef54d5083c93462a4e3191f": {
          "model_module": "@jupyter-widgets/controls",
          "model_name": "ButtonStyleModel",
          "model_module_version": "1.5.0",
          "state": {
            "_model_module": "@jupyter-widgets/controls",
            "_model_module_version": "1.5.0",
            "_model_name": "ButtonStyleModel",
            "_view_count": null,
            "_view_module": "@jupyter-widgets/base",
            "_view_module_version": "1.2.0",
            "_view_name": "StyleView",
            "button_color": "orange",
            "font_weight": ""
          }
        },
        "bd495a065d7041918428a1f0f4bcc9de": {
          "model_module": "@jupyter-widgets/controls",
          "model_name": "ButtonStyleModel",
          "model_module_version": "1.5.0",
          "state": {
            "_model_module": "@jupyter-widgets/controls",
            "_model_module_version": "1.5.0",
            "_model_name": "ButtonStyleModel",
            "_view_count": null,
            "_view_module": "@jupyter-widgets/base",
            "_view_module_version": "1.2.0",
            "_view_name": "StyleView",
            "button_color": "orange",
            "font_weight": ""
          }
        },
        "4f795e11c51b4e85b5a11ef1a94cc277": {
          "model_module": "@jupyter-widgets/controls",
          "model_name": "ButtonStyleModel",
          "model_module_version": "1.5.0",
          "state": {
            "_model_module": "@jupyter-widgets/controls",
            "_model_module_version": "1.5.0",
            "_model_name": "ButtonStyleModel",
            "_view_count": null,
            "_view_module": "@jupyter-widgets/base",
            "_view_module_version": "1.2.0",
            "_view_name": "StyleView",
            "button_color": "orange",
            "font_weight": ""
          }
        },
        "09a959983b6c40e1bd29393361d56e2f": {
          "model_module": "@jupyter-widgets/controls",
          "model_name": "ButtonStyleModel",
          "model_module_version": "1.5.0",
          "state": {
            "_model_module": "@jupyter-widgets/controls",
            "_model_module_version": "1.5.0",
            "_model_name": "ButtonStyleModel",
            "_view_count": null,
            "_view_module": "@jupyter-widgets/base",
            "_view_module_version": "1.2.0",
            "_view_name": "StyleView",
            "button_color": "orange",
            "font_weight": ""
          }
        },
        "e782a9b2b479431e9047667de5d2e9cb": {
          "model_module": "@jupyter-widgets/controls",
          "model_name": "ButtonStyleModel",
          "model_module_version": "1.5.0",
          "state": {
            "_model_module": "@jupyter-widgets/controls",
            "_model_module_version": "1.5.0",
            "_model_name": "ButtonStyleModel",
            "_view_count": null,
            "_view_module": "@jupyter-widgets/base",
            "_view_module_version": "1.2.0",
            "_view_name": "StyleView",
            "button_color": "orange",
            "font_weight": ""
          }
        },
        "30dd9f3c4ab343599488c95734603f20": {
          "model_module": "@jupyter-widgets/controls",
          "model_name": "ButtonStyleModel",
          "model_module_version": "1.5.0",
          "state": {
            "_model_module": "@jupyter-widgets/controls",
            "_model_module_version": "1.5.0",
            "_model_name": "ButtonStyleModel",
            "_view_count": null,
            "_view_module": "@jupyter-widgets/base",
            "_view_module_version": "1.2.0",
            "_view_name": "StyleView",
            "button_color": "orange",
            "font_weight": ""
          }
        },
        "fb8abf142bc041d880e6e0b87bdd61ae": {
          "model_module": "@jupyter-widgets/controls",
          "model_name": "ButtonStyleModel",
          "model_module_version": "1.5.0",
          "state": {
            "_model_module": "@jupyter-widgets/controls",
            "_model_module_version": "1.5.0",
            "_model_name": "ButtonStyleModel",
            "_view_count": null,
            "_view_module": "@jupyter-widgets/base",
            "_view_module_version": "1.2.0",
            "_view_name": "StyleView",
            "button_color": "orange",
            "font_weight": ""
          }
        },
        "4a06ba7aa8934388a2850a4bb7caa1ce": {
          "model_module": "@jupyter-widgets/controls",
          "model_name": "ButtonStyleModel",
          "model_module_version": "1.5.0",
          "state": {
            "_model_module": "@jupyter-widgets/controls",
            "_model_module_version": "1.5.0",
            "_model_name": "ButtonStyleModel",
            "_view_count": null,
            "_view_module": "@jupyter-widgets/base",
            "_view_module_version": "1.2.0",
            "_view_name": "StyleView",
            "button_color": "orange",
            "font_weight": ""
          }
        },
        "08c58aed56254b43ac9dc59577503ff7": {
          "model_module": "@jupyter-widgets/controls",
          "model_name": "ButtonStyleModel",
          "model_module_version": "1.5.0",
          "state": {
            "_model_module": "@jupyter-widgets/controls",
            "_model_module_version": "1.5.0",
            "_model_name": "ButtonStyleModel",
            "_view_count": null,
            "_view_module": "@jupyter-widgets/base",
            "_view_module_version": "1.2.0",
            "_view_name": "StyleView",
            "button_color": "orange",
            "font_weight": ""
          }
        },
        "6d74923c295e4f59bf6b8338f9dc5eb3": {
          "model_module": "@jupyter-widgets/controls",
          "model_name": "ButtonStyleModel",
          "model_module_version": "1.5.0",
          "state": {
            "_model_module": "@jupyter-widgets/controls",
            "_model_module_version": "1.5.0",
            "_model_name": "ButtonStyleModel",
            "_view_count": null,
            "_view_module": "@jupyter-widgets/base",
            "_view_module_version": "1.2.0",
            "_view_name": "StyleView",
            "button_color": "orange",
            "font_weight": ""
          }
        },
        "61749e5a95d742c79f91c2987a3cd75a": {
          "model_module": "@jupyter-widgets/controls",
          "model_name": "ButtonStyleModel",
          "model_module_version": "1.5.0",
          "state": {
            "_model_module": "@jupyter-widgets/controls",
            "_model_module_version": "1.5.0",
            "_model_name": "ButtonStyleModel",
            "_view_count": null,
            "_view_module": "@jupyter-widgets/base",
            "_view_module_version": "1.2.0",
            "_view_name": "StyleView",
            "button_color": "orange",
            "font_weight": ""
          }
        },
        "f2c8a090189444b2abb382f766d62099": {
          "model_module": "@jupyter-widgets/controls",
          "model_name": "ButtonStyleModel",
          "model_module_version": "1.5.0",
          "state": {
            "_model_module": "@jupyter-widgets/controls",
            "_model_module_version": "1.5.0",
            "_model_name": "ButtonStyleModel",
            "_view_count": null,
            "_view_module": "@jupyter-widgets/base",
            "_view_module_version": "1.2.0",
            "_view_name": "StyleView",
            "button_color": "orange",
            "font_weight": ""
          }
        },
        "f8c9414ea0c74f049c2efb426ecd15ee": {
          "model_module": "@jupyter-widgets/controls",
          "model_name": "ButtonStyleModel",
          "model_module_version": "1.5.0",
          "state": {
            "_model_module": "@jupyter-widgets/controls",
            "_model_module_version": "1.5.0",
            "_model_name": "ButtonStyleModel",
            "_view_count": null,
            "_view_module": "@jupyter-widgets/base",
            "_view_module_version": "1.2.0",
            "_view_name": "StyleView",
            "button_color": "orange",
            "font_weight": ""
          }
        },
        "78fc1735a0474447a5a094007d64599e": {
          "model_module": "@jupyter-widgets/controls",
          "model_name": "ButtonStyleModel",
          "model_module_version": "1.5.0",
          "state": {
            "_model_module": "@jupyter-widgets/controls",
            "_model_module_version": "1.5.0",
            "_model_name": "ButtonStyleModel",
            "_view_count": null,
            "_view_module": "@jupyter-widgets/base",
            "_view_module_version": "1.2.0",
            "_view_name": "StyleView",
            "button_color": "orange",
            "font_weight": ""
          }
        },
        "ec479a05869c4e249ea45ebdf9c7886b": {
          "model_module": "@jupyter-widgets/controls",
          "model_name": "ButtonStyleModel",
          "model_module_version": "1.5.0",
          "state": {
            "_model_module": "@jupyter-widgets/controls",
            "_model_module_version": "1.5.0",
            "_model_name": "ButtonStyleModel",
            "_view_count": null,
            "_view_module": "@jupyter-widgets/base",
            "_view_module_version": "1.2.0",
            "_view_name": "StyleView",
            "button_color": "orange",
            "font_weight": ""
          }
        }
      }
    }
  },
  "cells": [
    {
      "cell_type": "markdown",
      "metadata": {
        "id": "view-in-github",
        "colab_type": "text"
      },
      "source": [
        "<a href=\"https://colab.research.google.com/github/jmyoon7442/jmyoon7442/blob/main/240430.ipynb\" target=\"_parent\"><img src=\"https://colab.research.google.com/assets/colab-badge.svg\" alt=\"Open In Colab\"/></a>"
      ]
    },
    {
      "cell_type": "markdown",
      "source": [
        "# Markdown\n",
        "\n",
        "\n",
        "> Heading\n",
        "\n",
        "\n",
        "+ # Heading Level 1\n",
        "To create the biggest heading, you use one hash symbol (#) followed by a space, and then your heading text.\n",
        "\n",
        "\n",
        "+ ## Heading Level 2\n",
        " For a slightly smaller heading, use two hash symbols (##) followed by a space.\n",
        "\n",
        " 중간 사이즈 헤딩은 해시 2개\n",
        "\n",
        "+ ### Heading Level 3\n",
        " 제일 작은 헤딩은 해시 3개  \n",
        "\n",
        "\n",
        "> 줄바꿈 할 때는 윗줄 마지막에 스페이스 두 번\n",
        "\n",
        "\n",
        "> **굵은 글씨**는 양옆으로 별 두개씩(** **)\n",
        "\n",
        "\n",
        "> (>) 얘는 인용\n"
      ],
      "metadata": {
        "id": "8RF4n10RMtG1"
      }
    },
    {
      "cell_type": "markdown",
      "source": [
        "## 표\n",
        "\n",
        "|  English | Math | Art |\n",
        "|---|---|---|\n",
        "| A | A | C |\n",
        "| B | B | C |\n"
      ],
      "metadata": {
        "id": "kdyhKPF6NOb3"
      }
    },
    {
      "cell_type": "markdown",
      "source": [
        "## 서울 현재시간 코드"
      ],
      "metadata": {
        "id": "qjxpK3L0NVj0"
      }
    },
    {
      "cell_type": "code",
      "execution_count": 1,
      "metadata": {
        "colab": {
          "base_uri": "https://localhost:8080/"
        },
        "id": "Syjeqmg-MrHF",
        "outputId": "c097265f-467b-4a19-9c49-e396e5111ab5"
      },
      "outputs": [
        {
          "output_type": "stream",
          "name": "stdout",
          "text": [
            "Current Time in Seoul: 18:36:50\n"
          ]
        }
      ],
      "source": [
        "# 1. Import the pytz module for timezone calculations\n",
        "# datetime 모듈에서 datetime 클래스를 가져옵니다.\n",
        "# 이 클래스는 날짜와 시간 정보를 다루는데 사용됩니다.\n",
        "\n",
        "from datetime import datetime\n",
        "import pytz\n",
        "\n",
        "\n",
        "# 2. Define the timezone for Seoul\n",
        "# 'Asia/Seoul' 시간대를 나타내는 pytz.timezone() 객체를 생성하여 seoul_timezone 변수에 할당합니다.\n",
        "\n",
        "seoul_timezone = pytz.timezone('Asia/Seoul')\n",
        "\n",
        "\n",
        "# 3. Get current time in Seoul's timezone\n",
        "# datetime.now() 함수를 사용하여 현재 시간을 seoul_timezone 시간대로 가져옵니다.\n",
        "# 이 값을 now_seoul 변수에 할당합니다.\n",
        "\n",
        "now_seoul = datetime.now(seoul_timezone)\n",
        "\n",
        "\n",
        "# 4. Format the time\n",
        "# strftime() 메서드를 사용하여 현재 서울 시간을 지정된 형식에 맞추어 문자열로 변환합니다.\n",
        "# 여기서 \"%H:%M:%S\"는 시간을 시:분:초 형식으로 표시하도록 지정한 것입니다.\n",
        "\n",
        "current_time_seoul = now_seoul.strftime(\"%H:%M:%S\")\n",
        "\n",
        "\n",
        "\n",
        "# 5. Print the current time in Seoul\n",
        "# 서울의 현재 시간을 출력합니다.\n",
        "# 이 때 사용된 문자열은 \"Current Time in Seoul:\"이고, 그 뒤에는 위에서 변환한 current_time_seoul 문자열이 옵니다.\n",
        "\n",
        "print(\"Current Time in Seoul:\", current_time_seoul)\n",
        "\n"
      ]
    },
    {
      "cell_type": "markdown",
      "source": [
        "## 간단한 print()"
      ],
      "metadata": {
        "id": "sap1k68SwH8D"
      }
    },
    {
      "cell_type": "code",
      "source": [
        "# This is a comment line 해시태그는 코멘트를 남길 때 사용\n",
        "print(\"Hello, Python!\")  # 코드 사용할 때 사용"
      ],
      "metadata": {
        "colab": {
          "base_uri": "https://localhost:8080/"
        },
        "id": "45CXILf_OQ1b",
        "outputId": "ad34d9cd-e83b-4575-b0bf-82768c751340"
      },
      "execution_count": 4,
      "outputs": [
        {
          "output_type": "stream",
          "name": "stdout",
          "text": [
            "Hello, Python!\n"
          ]
        }
      ]
    },
    {
      "cell_type": "code",
      "source": [
        "# This is a comment line <= This is a comment line\n",
        "# Comments can be more than one line\n",
        "\n",
        "print(\"Hello, Python!\") # This is a code line\n",
        "print('This is the output') # Comment can also be written this way."
      ],
      "metadata": {
        "colab": {
          "base_uri": "https://localhost:8080/"
        },
        "id": "UNUz18iEOvEk",
        "outputId": "81b713a8-d542-40b2-f963-f50338ae46e1"
      },
      "execution_count": 5,
      "outputs": [
        {
          "output_type": "stream",
          "name": "stdout",
          "text": [
            "Hello, Python!\n",
            "This is the output\n"
          ]
        }
      ]
    },
    {
      "cell_type": "code",
      "source": [
        "x = 5  # x는 int 이고\n",
        "y = \"Hello, World!\"  # y는 str(string/문자열)\n",
        "\n",
        "print(x)\n",
        "print(y)"
      ],
      "metadata": {
        "id": "nEIH74JmZg0c"
      },
      "execution_count": null,
      "outputs": []
    },
    {
      "cell_type": "code",
      "source": [
        "# Cell 1: Creating Variables\n",
        "name = \"John Doe\"   # str 문자열이다.\n",
        "age = 30  # int 정수이다\n",
        "height = 5.9  # float 실수이다.\n",
        "is_student = False  # bool\n",
        "\n",
        "subject = \"English\" # str 문자열은 꼭 \"(쌍따옴표 안에 넣기)\"\n",
        "\n",
        "# Cell 2: Working with Variables\n",
        "print(f\"Name: {name}\")   # print(f\"string: {variable}\")\n",
        "print(f\"Age: {age}\")\n",
        "print(f\"Height: {height} feet\")\n",
        "print(f\"Is a student: {is_student}\")\n",
        "\n",
        "# 첫번째 함수랑 형태는 다르지만 같은 결과값을 갖는다.\n",
        "print(\"Name:\", name)  # print(\"string:\", variable)\n",
        "\n",
        "\n",
        "# Cell 3: Changing Variable Value\n",
        "age = 31    # 여기서부터는 variable 'age'의 값이 31로 변한다.\n",
        "print(f\"Updated Age: {age}\")"
      ],
      "metadata": {
        "id": "mteWYYvKdbQ0"
      },
      "execution_count": null,
      "outputs": []
    },
    {
      "cell_type": "markdown",
      "source": [
        "## Practice"
      ],
      "metadata": {
        "id": "W3bmSf4op8i0"
      }
    },
    {
      "cell_type": "code",
      "source": [
        "name = \"Hanbeom\"\n",
        "occupation = \"a Classical Singer.\"\n",
        "age = 31\n",
        "\n",
        "print(name, \"is\", occupation)\n",
        "print(\"He is\", age, \"years old now.\")\n",
        "\n",
        "occupation = \"a musical actor.\"\n",
        "print(f\"He is also {occupation}\")"
      ],
      "metadata": {
        "colab": {
          "base_uri": "https://localhost:8080/"
        },
        "id": "Dw2410lLp7xi",
        "outputId": "e8f001a3-5a27-475d-e253-ff675b9cd65a"
      },
      "execution_count": 23,
      "outputs": [
        {
          "output_type": "stream",
          "name": "stdout",
          "text": [
            "Hanbeom is a Classical Singer.\n",
            "He is 31 years old now.\n",
            "He is also a musical actor.\n"
          ]
        }
      ]
    },
    {
      "cell_type": "code",
      "source": [
        "def function_name(parameters):\n",
        "    # code to execute\n",
        "    return result  # optional"
      ],
      "metadata": {
        "id": "kvMIbnJivErJ"
      },
      "execution_count": 24,
      "outputs": []
    },
    {
      "cell_type": "code",
      "source": [
        "def greet(name):\n",
        "    return f\"Hello, {name}!\"\n",
        "\n",
        "message = greet(\"Alice\")\n",
        "print(message)"
      ],
      "metadata": {
        "colab": {
          "base_uri": "https://localhost:8080/"
        },
        "id": "9ma7crhavKx5",
        "outputId": "8bfcc7a4-77a4-410d-959d-bf157e83ea42"
      },
      "execution_count": 25,
      "outputs": [
        {
          "output_type": "stream",
          "name": "stdout",
          "text": [
            "Hello, Alice!\n"
          ]
        }
      ]
    },
    {
      "cell_type": "markdown",
      "source": [
        "## Practice"
      ],
      "metadata": {
        "id": "8aDPhhgZz1LQ"
      }
    },
    {
      "cell_type": "code",
      "source": [
        "def thank(name):\n",
        "  return f\"Thank you, {name}!\"\n",
        "\n",
        "text = thank(\"Jeongmin\")\n",
        "\n",
        "print(text)"
      ],
      "metadata": {
        "colab": {
          "base_uri": "https://localhost:8080/"
        },
        "id": "Ytq60OZuwypw",
        "outputId": "dc9ddf92-8556-4bf9-e7b5-8d498186b305"
      },
      "execution_count": 27,
      "outputs": [
        {
          "output_type": "stream",
          "name": "stdout",
          "text": [
            "Thank you, Jeongmin!\n"
          ]
        }
      ]
    },
    {
      "cell_type": "markdown",
      "source": [
        "## Add Numbers"
      ],
      "metadata": {
        "id": "HRfSNeUpz4ud"
      }
    },
    {
      "cell_type": "markdown",
      "source": [
        "> 변수 X, Y값 각자 지정해서 더하기"
      ],
      "metadata": {
        "id": "etyhIaoyw2YI"
      }
    },
    {
      "cell_type": "code",
      "source": [
        "x = 10 ; y = 15\n",
        "sum = x + y\n",
        "\n",
        "print(\"The difference is:\", sum)"
      ],
      "metadata": {
        "colab": {
          "base_uri": "https://localhost:8080/"
        },
        "id": "di0YLG1hwZ6b",
        "outputId": "cc6d8522-6c6e-42dc-c117-7e4b37277421"
      },
      "execution_count": 121,
      "outputs": [
        {
          "output_type": "stream",
          "name": "stdout",
          "text": [
            "The difference is: 25\n"
          ]
        }
      ]
    },
    {
      "cell_type": "markdown",
      "source": [
        "함수 만들어서 number1, number2에 숫자 넣어서 더하기"
      ],
      "metadata": {
        "id": "k0MKxF1Xw8r3"
      }
    },
    {
      "cell_type": "code",
      "source": [
        "def add_numbers(number1, number2):\n",
        "    sum = number1 + number2\n",
        "    return sum\n",
        "\n",
        "# Using the function\n",
        "result = add_numbers(10, 15)\n",
        "print(\"The sum is:\", result)"
      ],
      "metadata": {
        "colab": {
          "base_uri": "https://localhost:8080/"
        },
        "id": "Z27afCA4z5Uv",
        "outputId": "a700692c-3ed4-44fe-ab75-1ce9234d960b"
      },
      "execution_count": 115,
      "outputs": [
        {
          "output_type": "stream",
          "name": "stdout",
          "text": [
            "The sum is: 25\n"
          ]
        }
      ]
    },
    {
      "cell_type": "markdown",
      "source": [
        "## Subtract Numbers"
      ],
      "metadata": {
        "id": "tCelGaby17Oh"
      }
    },
    {
      "cell_type": "code",
      "source": [
        "x = 25 ; y = 10\n",
        "difference = x - y\n",
        "\n",
        "print(\"The difference is:\", difference)"
      ],
      "metadata": {
        "colab": {
          "base_uri": "https://localhost:8080/"
        },
        "id": "UvaB2dSSycA4",
        "outputId": "80b2570c-f85e-4a80-b463-0b4d7b52ffc8"
      },
      "execution_count": 120,
      "outputs": [
        {
          "output_type": "stream",
          "name": "stdout",
          "text": [
            "The difference is: 15\n"
          ]
        }
      ]
    },
    {
      "cell_type": "code",
      "source": [
        "def subtract_numbers(number1, number2):\n",
        " difference = number1 - number2\n",
        " return difference\n",
        "\n",
        "result = subtract_numbers(25,10)\n",
        "print(\"The sum is:\", result)\n"
      ],
      "metadata": {
        "colab": {
          "base_uri": "https://localhost:8080/"
        },
        "id": "uc__ebik2FfZ",
        "outputId": "928369d0-25b9-4a98-f76b-7279780d2c6d"
      },
      "execution_count": 33,
      "outputs": [
        {
          "output_type": "stream",
          "name": "stdout",
          "text": [
            "The sum is: 15\n"
          ]
        }
      ]
    },
    {
      "cell_type": "markdown",
      "source": [
        "## Multiply Numbers"
      ],
      "metadata": {
        "id": "LVWoJDIT4K42"
      }
    },
    {
      "cell_type": "code",
      "source": [
        "x = 30 ; y = 5\n",
        "product = x * y\n",
        "print(f\"The product is: {product}\")"
      ],
      "metadata": {
        "colab": {
          "base_uri": "https://localhost:8080/"
        },
        "id": "ORn4sa6jzFPf",
        "outputId": "1561b500-794a-4cbb-e438-458af9365590"
      },
      "execution_count": 118,
      "outputs": [
        {
          "output_type": "stream",
          "name": "stdout",
          "text": [
            "The product is: 150.\n"
          ]
        }
      ]
    },
    {
      "cell_type": "code",
      "source": [
        "def multiply_nums(num1, num2):\n",
        " product = num1 * num2\n",
        " return product\n",
        "\n",
        "result = multiply_nums(30, 5)\n",
        "print(\"The product is:\", result)"
      ],
      "metadata": {
        "colab": {
          "base_uri": "https://localhost:8080/"
        },
        "id": "nBPiNbIG4KSE",
        "outputId": "130cddc5-7158-47e3-e23b-f6946d3e2600"
      },
      "execution_count": 40,
      "outputs": [
        {
          "output_type": "stream",
          "name": "stdout",
          "text": [
            "The product is: 150\n"
          ]
        }
      ]
    },
    {
      "cell_type": "markdown",
      "source": [
        "## Divisde Numbers"
      ],
      "metadata": {
        "id": "LZNnQlaM6QS7"
      }
    },
    {
      "cell_type": "code",
      "source": [
        "x = 30 ; y = 5\n",
        "quotient = x / y\n",
        "\n",
        "print(\"The quotient is %s\"%quotient)\n"
      ],
      "metadata": {
        "colab": {
          "base_uri": "https://localhost:8080/"
        },
        "id": "lbP9OCutz0Rf",
        "outputId": "bfcc6840-3adb-451c-99eb-24f51dbdd432"
      },
      "execution_count": 124,
      "outputs": [
        {
          "output_type": "stream",
          "name": "stdout",
          "text": [
            "The quotient is 6.0\n"
          ]
        }
      ]
    },
    {
      "cell_type": "code",
      "source": [
        "def divide_nums(num1, num2):\n",
        "# 0으로 나누는 경우를 처리\n",
        " if num2 == 0:\n",
        "  return \"Error: Cannot divide by zero\"\n",
        "\n",
        " quotient = num1 / num2\n",
        " return quotient\n",
        "\n",
        "result = divide_nums(30, 5)\n",
        "print(\"The quotient is:\", result)"
      ],
      "metadata": {
        "colab": {
          "base_uri": "https://localhost:8080/"
        },
        "id": "fyRSt3G96P0-",
        "outputId": "b1b0c4ed-3181-4def-e41c-4a1d4c81051c"
      },
      "execution_count": 53,
      "outputs": [
        {
          "output_type": "stream",
          "name": "stdout",
          "text": [
            "The quotient is: 6.0\n"
          ]
        }
      ]
    },
    {
      "cell_type": "markdown",
      "source": [
        "##Srtings"
      ],
      "metadata": {
        "id": "KHV80J-XJ2ax"
      }
    },
    {
      "cell_type": "code",
      "source": [
        "# An example of a string\n",
        "name = input()  # A pop-up box will appear and wait for your input. Type a name.\n",
        "print(\"Hello, %s!\"%name)  # % operator: The % operator is used for string formatting. It links the string \"Hello, %s!\" with the variable name to replace the %s placeholder.\n",
        "print(f\"Hello, {name}!\")  # print(f\"strings, {variable}\") 위 함수와 동일하다"
      ],
      "metadata": {
        "id": "B8Ep9W8hJ6c3"
      },
      "execution_count": null,
      "outputs": []
    },
    {
      "cell_type": "markdown",
      "source": [
        "## Practice"
      ],
      "metadata": {
        "id": "-RVI7TdpLvwa"
      }
    },
    {
      "cell_type": "code",
      "source": [
        "print(\"Hello! What is your name?\")\n",
        "\n",
        "name = input()\n",
        "\n",
        "print(\"Oh, your name is %s!\"%name, \"Nice to meet you.\")\n",
        "print(f\"Oh, your name is {name}! Glad to meet you.\")\n"
      ],
      "metadata": {
        "colab": {
          "base_uri": "https://localhost:8080/"
        },
        "id": "A8IMapZwLzbW",
        "outputId": "4ed0e21c-79bc-4f50-a271-968a787f2848"
      },
      "execution_count": 71,
      "outputs": [
        {
          "output_type": "stream",
          "name": "stdout",
          "text": [
            "Hello! What is your name?\n",
            "Jay\n",
            "Oh, your name is Jay! Nice to meet you.\n",
            "Oh, your name is Jay! Glad to meet you.\n"
          ]
        }
      ]
    },
    {
      "cell_type": "markdown",
      "source": [
        "## Variable 내 줄바꿈\n",
        "\"\"\"  \n",
        "(sentence1)  \n",
        "(swntence2)  \n",
        "\"\"\""
      ],
      "metadata": {
        "id": "IxVV580UQu1L"
      }
    },
    {
      "cell_type": "code",
      "source": [
        "# 줄바꿈 안 되고 걍 나옴\n",
        "mytext1 = \"Long long time ago, there lived a lion called Lezzi. One day, ....\"\n",
        "\n",
        "# 줄바꿈 적용되어서 나옴\n",
        "mytext2 = \"\"\"\n",
        "Long long time ago, there lived a lion called Lezzi.\n",
        "One day, ....\n",
        "\"\"\"\n",
        "print(f\"1. My text: {mytext1}\")\n",
        "print(\"2. My text:\", mytext1)\n",
        "print(f\"3. My text: {mytext2}\")\n",
        "print(\"4. My text:\", mytext2)"
      ],
      "metadata": {
        "colab": {
          "base_uri": "https://localhost:8080/"
        },
        "id": "QOJPx6aIPD-z",
        "outputId": "b86afd4a-15ee-4b0d-b09e-4e38f1dae649"
      },
      "execution_count": 82,
      "outputs": [
        {
          "output_type": "stream",
          "name": "stdout",
          "text": [
            "1. My text: Long long time ago, there lived a lion called Lezzi. One day, ....\n",
            "2. My text: Long long time ago, there lived a lion called Lezzi. One day, ....\n",
            "3. My text: \n",
            "Long long time ago, there lived a lion called Lezzi. \n",
            "One day, ....\n",
            "\n",
            "4. My text: \n",
            "Long long time ago, there lived a lion called Lezzi. \n",
            "One day, ....\n",
            "\n"
          ]
        }
      ]
    },
    {
      "cell_type": "markdown",
      "source": [
        "## List\n"
      ],
      "metadata": {
        "id": "iuT_K1NHkwJg"
      }
    },
    {
      "cell_type": "code",
      "source": [
        "# An example of a list\n",
        "k = favorite_books\n",
        "favorite_books = [\"To Kill a Mockingbird\", \"1984\", \"The Great Gatsby\"] # [square barckets 사용]\n",
        "print(\"Favorite Books:\", favorite_books)\n",
        "print(\"Favorite Book:\", k[0])\n",
        "\n",
        "s = NCT127\n",
        "NCT127 = [\"Taeyong\", \"Doyoung\",\"Johnny\", \"Jaehyun\", \"Yuta\"]\n",
        "print(\"Nct127 has\", s)\n",
        "print(f\"My bais: {s[1]}, {s[3]}\")\n",
        "\n",
        "dy = s[1]\n",
        "print(dy[:])"
      ],
      "metadata": {
        "colab": {
          "base_uri": "https://localhost:8080/"
        },
        "id": "SCRwe4pekuPF",
        "outputId": "6d0a19e3-fd70-438c-c8e0-46ecffa1d688"
      },
      "execution_count": 85,
      "outputs": [
        {
          "output_type": "stream",
          "name": "stdout",
          "text": [
            "Favorite Books: ['To Kill a Mockingbird', '1984', 'The Great Gatsby']\n",
            "Favorite Book: To Kill a Mockingbird\n",
            "Nct127 has ['Taeyong', 'Doyoung', 'Johnny', 'Jaehyun', 'Yuta']\n",
            "My bais: Doyoung, Jaehyun\n",
            "Doyoung\n"
          ]
        }
      ]
    },
    {
      "cell_type": "markdown",
      "source": [
        "## List에 item 추가하기"
      ],
      "metadata": {
        "id": "Nc7xbVhqhV40"
      }
    },
    {
      "cell_type": "code",
      "source": [
        "# List 설정\n",
        "fruits = [\"apple\", \"banana\", \"grape\"]\n",
        "\n",
        "# Adding an element to the end of the list\n",
        "print(fruits)\n",
        "fruits.append(\"orange\")\n",
        "print(fruits)\n",
        "\n",
        "# Adding an element at a specific position\n",
        "fruits.insert(1, \"mango\")  # Inserts 'mango' at position 1 (this is the second position in the list)\n",
        "print(fruits)"
      ],
      "metadata": {
        "colab": {
          "base_uri": "https://localhost:8080/"
        },
        "id": "kMlQtjNThcSf",
        "outputId": "65871392-5816-4f1d-cbac-83acc6f821cb"
      },
      "execution_count": 86,
      "outputs": [
        {
          "output_type": "stream",
          "name": "stdout",
          "text": [
            "['apple', 'banana', 'grape']\n",
            "['apple', 'banana', 'grape', 'orange']\n",
            "['apple', 'mango', 'banana', 'grape', 'orange']\n"
          ]
        }
      ]
    },
    {
      "cell_type": "markdown",
      "source": [
        "## List에서 Item 빼기"
      ],
      "metadata": {
        "id": "gZPNRp6FjJsz"
      }
    },
    {
      "cell_type": "code",
      "source": [
        "# Removing an element by value\n",
        "# Creating a list with some elements\n",
        "fruits = [\"apple\", \"banana\", \"cherry\"]\n",
        "\n",
        "fruits.remove(\"banana\")\n",
        "print(fruits)\n",
        "\n",
        "# Removing an element by index\n",
        "del fruits[0]  # Removes the first element\n",
        "\n",
        "print(fruits)"
      ],
      "metadata": {
        "colab": {
          "base_uri": "https://localhost:8080/"
        },
        "id": "GyQtOLdTjNCO",
        "outputId": "952375a3-a2ac-4926-8e84-edb1671de175"
      },
      "execution_count": 89,
      "outputs": [
        {
          "output_type": "stream",
          "name": "stdout",
          "text": [
            "['apple', 'cherry']\n",
            "['cherry']\n"
          ]
        }
      ]
    },
    {
      "cell_type": "markdown",
      "source": [
        "## List slicing 하기"
      ],
      "metadata": {
        "id": "ufJiqkFljjgh"
      }
    },
    {
      "cell_type": "code",
      "source": [
        "# Creating a list with some elements\n",
        "# index starts with 0 in Python. THus, \"banana\" is the second element and its index is \"1\", not \"2\"\n",
        "fruits1 = [\"apple\", \"banana\", \"cherry\", \"mango\", \"orange\"]\n",
        "\n",
        "# Slicing elements from 2nd to 4th position\n",
        "a1 = fruits1[1:4]; print(\"a1: \", a1)\n",
        "\n",
        "# Slicing from the start to the 3rd position\n",
        "a2 = fruits1[:3]; print(\"a2: \", a2)\n",
        "\n",
        "# Slicing from 3rd position to the end\n",
        "a3 = fruits1[2:]; print(\"a3: \", a3)\n"
      ],
      "metadata": {
        "colab": {
          "base_uri": "https://localhost:8080/"
        },
        "id": "DpsK08lbjpWS",
        "outputId": "aad2806a-5c9d-41a7-d926-f3fea527e76a"
      },
      "execution_count": 91,
      "outputs": [
        {
          "output_type": "stream",
          "name": "stdout",
          "text": [
            "a1:  ['banana', 'cherry', 'mango']\n",
            "a2:  ['apple', 'banana', 'cherry']\n",
            "a3:  ['cherry', 'mango', 'orange']\n"
          ]
        }
      ]
    },
    {
      "cell_type": "markdown",
      "source": [
        "## List 활용해서 Iterating (루프)"
      ],
      "metadata": {
        "id": "MaobNd_YmYCV"
      }
    },
    {
      "cell_type": "code",
      "source": [
        "# Iterating through a list\n",
        "fruits1 = [\"apple\", \"banana\", \"cherry\", \"mango\", \"orange\"]\n",
        "\n",
        "for fruit in fruits1:\n",
        "    print(fruit)"
      ],
      "metadata": {
        "colab": {
          "base_uri": "https://localhost:8080/"
        },
        "id": "-IK8JzT9muop",
        "outputId": "daff8f54-3bab-4772-c163-e9abc1b42ce6"
      },
      "execution_count": 93,
      "outputs": [
        {
          "output_type": "stream",
          "name": "stdout",
          "text": [
            "apple\n",
            "banana\n",
            "cherry\n",
            "mango\n",
            "orange\n"
          ]
        }
      ]
    },
    {
      "cell_type": "code",
      "source": [
        "# for 루프와 `range` 함수를 사용하여 0부터 9까지의 숫자들을 출력하는 코드입니다\n",
        "# range(0, 10) 함수는 0부터 시작하는 숫자 리스트를 생성하며, 10은 포함되지 않습니다.\n",
        "for i in range(0,10):\n",
        "  print(i)"
      ],
      "metadata": {
        "colab": {
          "base_uri": "https://localhost:8080/"
        },
        "id": "uL-Yf4tCnSoF",
        "outputId": "4df6a1a6-0301-4e55-e32e-803e7ab2691e"
      },
      "execution_count": 94,
      "outputs": [
        {
          "output_type": "stream",
          "name": "stdout",
          "text": [
            "0\n",
            "1\n",
            "2\n",
            "3\n",
            "4\n",
            "5\n",
            "6\n",
            "7\n",
            "8\n",
            "9\n"
          ]
        }
      ]
    },
    {
      "cell_type": "markdown",
      "source": [
        "## List Sorting"
      ],
      "metadata": {
        "id": "iFX7i6bjodOo"
      }
    },
    {
      "cell_type": "code",
      "source": [
        "# Sorting a list without modifying the original list\n",
        "fruits = [\"cherry\", \"mango\", \"orange\",\"apple\", \"banana\"]\n",
        "print(\"Original: \", fruits)\n",
        "sorted_fruits = sorted(fruits)\n",
        "print(\"Sorted: \", sorted_fruits) # 기본적으로 알파벳 순서로 분류됨"
      ],
      "metadata": {
        "colab": {
          "base_uri": "https://localhost:8080/"
        },
        "id": "0ekhrWyYojgq",
        "outputId": "7e08b505-63aa-4200-8cbd-8fd5798f0815"
      },
      "execution_count": 95,
      "outputs": [
        {
          "output_type": "stream",
          "name": "stdout",
          "text": [
            "Original:  ['cherry', 'mango', 'orange', 'apple', 'banana']\n",
            "Sorted:  ['apple', 'banana', 'cherry', 'mango', 'orange']\n"
          ]
        }
      ]
    },
    {
      "cell_type": "markdown",
      "source": [
        "## List 에서 Item checking 하기\n",
        "+ List = [\"A\", \"B\", \"C\"]  \n",
        "  if \"A\" in List  \n",
        "   Print(\"A is in the list.\")\n",
        "  "
      ],
      "metadata": {
        "id": "HefnAJHepVRC"
      }
    },
    {
      "cell_type": "code",
      "source": [
        "# Check if an item is in a list\n",
        "fruits = [\"cherry\", \"mango\", \"orange\",\"apple\", \"banana\"]\n",
        "if \"apple\" in fruits:\n",
        "    print(\"Apple is in the list.\")"
      ],
      "metadata": {
        "colab": {
          "base_uri": "https://localhost:8080/"
        },
        "id": "PFFF17HIpkZp",
        "outputId": "a7328226-266a-4a5c-bdb2-a7e02fd8568a"
      },
      "execution_count": 97,
      "outputs": [
        {
          "output_type": "stream",
          "name": "stdout",
          "text": [
            "Apple is in the list.\n"
          ]
        }
      ]
    },
    {
      "cell_type": "markdown",
      "source": [
        "> List에서 Item Checking 하는 Inut 창 만들기"
      ],
      "metadata": {
        "id": "vTqsoFYHqQLf"
      }
    },
    {
      "cell_type": "code",
      "source": [
        "request = input(\"Which one do you want to check? \")  # 질문에 대한 사용자의 응답\n",
        "\n",
        "if request in fruits:  # 사용자의 응답이 list 안에 있으면\n",
        "  print(f\"The word '{request}' is in the list.\")\n",
        "else:  # 그 밖은\n",
        "  print(f\"The word '{request}' is not in the list\")"
      ],
      "metadata": {
        "colab": {
          "base_uri": "https://localhost:8080/"
        },
        "id": "poH_lEhqp_gY",
        "outputId": "6de7cd9c-32bd-4015-917d-f0af66310ec5"
      },
      "execution_count": 98,
      "outputs": [
        {
          "output_type": "stream",
          "name": "stdout",
          "text": [
            "Which one do you want to check? Pine Apple\n",
            "The word 'Pine Apple' is not in the list\n"
          ]
        }
      ]
    },
    {
      "cell_type": "markdown",
      "source": [
        "## Index 에서 Adding 주의"
      ],
      "metadata": {
        "id": "lj7VOORbq_Ar"
      }
    },
    {
      "cell_type": "code",
      "source": [
        "a = [1, \"Mary\", 4, \"John\"]\n",
        "\n",
        "a1 = a[0] + a[2]    # 같은 int끼리 add 가능\n",
        "a3 = a[1] + a[3]    # 같은 str끼리 add 가능\n",
        "print(\"The sum of a1:\", a1, \"The sum of a2:\", a3)"
      ],
      "metadata": {
        "colab": {
          "base_uri": "https://localhost:8080/"
        },
        "id": "OR9YqGLxrZm8",
        "outputId": "fcb6808b-871b-4de4-b89f-6d4a36b42a72"
      },
      "execution_count": 100,
      "outputs": [
        {
          "output_type": "stream",
          "name": "stdout",
          "text": [
            "The sum of a1: 5 The sum of a2: MaryJohn\n"
          ]
        }
      ]
    },
    {
      "cell_type": "markdown",
      "source": [
        "> 다른 타입의 데이터는 산수 안 됨"
      ],
      "metadata": {
        "id": "hKUNje0Or1G9"
      }
    },
    {
      "cell_type": "code",
      "source": [
        "1 # This will reture TypeError\n",
        "----> a2 = a[0] + a[1]\n",
        "\n",
        "TypeError: unsupported operand type(s) for +: 'int' and 'str'"
      ],
      "metadata": {
        "id": "nC2_9N6pr8Em"
      },
      "execution_count": null,
      "outputs": []
    },
    {
      "cell_type": "markdown",
      "source": [
        "## Dictionary"
      ],
      "metadata": {
        "id": "eHmkJ_xWlxTz"
      }
    },
    {
      "cell_type": "code",
      "source": [
        "# An example of a dictionary\n",
        "student_grades = {\"Alice\": 90, \"Bob\": 85, \"Charlie\": 95} # 사전은 {이 괄호 쓴다}\n",
        "print(\"Student Grades:\", student_grades)\n",
        "\n",
        "# Return Alice's grade\n",
        "student_grades[\"Alice\"] # 변수값 찾을 때는 [squre braces] 사용\n",
        "result = student_grades[\"Alice\"]  # print 함수에서 간결하게 쓰려고 result 변수 만들어 봄\n",
        "print(f\"Alice: {result}\")  # print(\"Alice:\", result) 얘랑 같은 함수"
      ],
      "metadata": {
        "colab": {
          "base_uri": "https://localhost:8080/"
        },
        "id": "fUUGlIEblv5G",
        "outputId": "6f7d2e28-c2c1-4583-9d53-aa6bc1bd7a02"
      },
      "execution_count": 12,
      "outputs": [
        {
          "output_type": "stream",
          "name": "stdout",
          "text": [
            "Student Grades: {'Alice': 90, 'Bob': 85, 'Charlie': 95}\n",
            "Alice: 90\n",
            "Alice: 90\n"
          ]
        }
      ]
    },
    {
      "cell_type": "markdown",
      "source": [
        "## Dictionary 활용"
      ],
      "metadata": {
        "id": "BKcxw70uuEvq"
      }
    },
    {
      "cell_type": "code",
      "source": [
        "# Dictionary with some data (dict 만들기)\n",
        "person = {\"name\": \"John\", \"age\": 30, \"city\": \"New York\"}\n",
        "\n",
        "# Accessing value by key\n",
        "name = person[\"name\"]  # variable: name, key:\"name\", value:\"John\"\n",
        "print(name)\n",
        "\n",
        "# Using get() method which returns None if key not found\n",
        "occupation = person.get(\"occupation\")  # None\n",
        "print(occupation)\n",
        "\n",
        "# Adding a new key-value pair\n",
        "person[\"occupation\"] = \"Engineer\"  # \"occupation\" key에 value \"Engineer\" 설정\n",
        "print(\"변경 전:\", person)\n",
        "\n",
        "# Modifying an existing key-value pair\n",
        "person[\"age\"] = 31  # \"age\" Key의 value 수정하기\n",
        "\n",
        "print(\"변경 후:\", person)"
      ],
      "metadata": {
        "colab": {
          "base_uri": "https://localhost:8080/"
        },
        "id": "cpaj7KDssuMl",
        "outputId": "48fe9d8e-a86f-4f01-b90a-e7f6fb1dad8d"
      },
      "execution_count": 104,
      "outputs": [
        {
          "output_type": "stream",
          "name": "stdout",
          "text": [
            "John\n",
            "None\n",
            "변경 전: {'name': 'John', 'age': 30, 'city': 'New York', 'occupation': 'Engineer'}\n",
            "변경 후: {'name': 'John', 'age': 31, 'city': 'New York', 'occupation': 'Engineer'}\n"
          ]
        }
      ]
    },
    {
      "cell_type": "markdown",
      "source": [
        "## Dict 에서 Item 빼기 / key-value 짝 해체"
      ],
      "metadata": {
        "id": "oo6FLd5FuKJU"
      }
    },
    {
      "cell_type": "code",
      "source": [
        "# Removing a key-value pair\n",
        "person = {\"name\": \"John\", \"age\": 30, \"city\": \"New York\"}\n",
        "\n",
        "del person[\"city\"]  # key로 삭제\n",
        "\n",
        "# Removing a key-value pair using pop()\n",
        "age = person.pop(\"age\")  # key-value 관계 해체\n",
        "print(person)\n",
        "print(age)"
      ],
      "metadata": {
        "colab": {
          "base_uri": "https://localhost:8080/"
        },
        "id": "jy56x-ZJuOT3",
        "outputId": "b782006d-337a-4347-905f-5da467ec6eba"
      },
      "execution_count": 106,
      "outputs": [
        {
          "output_type": "stream",
          "name": "stdout",
          "text": [
            "{'name': 'John'}\n",
            "30\n"
          ]
        }
      ]
    },
    {
      "cell_type": "markdown",
      "source": [
        "## Dict에서 Iterating 하기"
      ],
      "metadata": {
        "id": "6fhVY6RqvAJF"
      }
    },
    {
      "cell_type": "code",
      "source": [
        "person = {'name': 'John', 'age': 31, 'city': 'New York', 'occupation': 'Engineer'}\n",
        "\n",
        "# Iterating over keys\n",
        "for key in person:\n",
        "    print(key)\n",
        "\n",
        "# Iterating over values\n",
        "for value in person.values():\n",
        "    print(value)\n",
        "\n",
        "# Iterating over key-value pairs\n",
        "for key, value in person.items():\n",
        "    print(key, value)"
      ],
      "metadata": {
        "colab": {
          "base_uri": "https://localhost:8080/"
        },
        "id": "C5_7okuxvHdQ",
        "outputId": "6ee5e35a-994d-4bd9-cd3e-1185f2a93cbe"
      },
      "execution_count": 108,
      "outputs": [
        {
          "output_type": "stream",
          "name": "stdout",
          "text": [
            "name\n",
            "age\n",
            "city\n",
            "occupation\n",
            "John\n",
            "31\n",
            "New York\n",
            "Engineer\n",
            "name John\n",
            "age 31\n",
            "city New York\n",
            "occupation Engineer\n"
          ]
        }
      ]
    },
    {
      "cell_type": "markdown",
      "source": [
        "## Tuple"
      ],
      "metadata": {
        "id": "NwIGq1SFpDhx"
      }
    },
    {
      "cell_type": "code",
      "source": [
        "# An example of a tuple\n",
        "months_of_the_year = (\"January\", \"February\", \"March\", \"April\")\n",
        "m = months_of_the_year\n",
        "print(\"Months of the Year:\", months_of_the_year)"
      ],
      "metadata": {
        "colab": {
          "base_uri": "https://localhost:8080/"
        },
        "id": "S-1MJIO2pECh",
        "outputId": "99fd6928-ee70-4144-8bdf-92e462163698"
      },
      "execution_count": 87,
      "outputs": [
        {
          "output_type": "stream",
          "name": "stdout",
          "text": [
            "Months of the Year: ('January', 'February', 'March', 'April')\n"
          ]
        }
      ]
    },
    {
      "cell_type": "markdown",
      "source": [
        "## Tuple은 Item Adding 안 된다."
      ],
      "metadata": {
        "id": "D3lsK5gJilkZ"
      }
    },
    {
      "cell_type": "code",
      "source": [
        "\n",
        "m.append(\"May\")\n",
        "print(m)"
      ],
      "metadata": {
        "colab": {
          "base_uri": "https://localhost:8080/",
          "height": 158
        },
        "id": "iPrmEmHBh47I",
        "outputId": "b37a2961-85e3-41f8-dcbc-0b56cf4b50cf"
      },
      "execution_count": 88,
      "outputs": [
        {
          "output_type": "error",
          "ename": "AttributeError",
          "evalue": "'tuple' object has no attribute 'append'",
          "traceback": [
            "\u001b[0;31m---------------------------------------------------------------------------\u001b[0m",
            "\u001b[0;31mAttributeError\u001b[0m                            Traceback (most recent call last)",
            "\u001b[0;32m<ipython-input-88-b9e04594a229>\u001b[0m in \u001b[0;36m<cell line: 1>\u001b[0;34m()\u001b[0m\n\u001b[0;32m----> 1\u001b[0;31m \u001b[0mm\u001b[0m\u001b[0;34m.\u001b[0m\u001b[0mappend\u001b[0m\u001b[0;34m(\u001b[0m\u001b[0;34m\"May\"\u001b[0m\u001b[0;34m)\u001b[0m\u001b[0;34m\u001b[0m\u001b[0;34m\u001b[0m\u001b[0m\n\u001b[0m\u001b[1;32m      2\u001b[0m \u001b[0mprint\u001b[0m\u001b[0;34m(\u001b[0m\u001b[0mm\u001b[0m\u001b[0;34m)\u001b[0m\u001b[0;34m\u001b[0m\u001b[0;34m\u001b[0m\u001b[0m\n",
            "\u001b[0;31mAttributeError\u001b[0m: 'tuple' object has no attribute 'append'"
          ]
        }
      ]
    },
    {
      "cell_type": "markdown",
      "source": [
        "## Input 함수 활용하기"
      ],
      "metadata": {
        "id": "e2-lQtbyrgV_"
      }
    },
    {
      "cell_type": "code",
      "source": [
        "print(\"Hello, Python!\")\n",
        "\n",
        "greet = input() # The user types input text\n",
        "print(f\"Hi,{greet}!\")   # This will display 'greet'"
      ],
      "metadata": {
        "colab": {
          "base_uri": "https://localhost:8080/"
        },
        "id": "daYFAxkZrk3-",
        "outputId": "de1618ad-9ca7-42fe-aff0-35d14909df5a"
      },
      "execution_count": 18,
      "outputs": [
        {
          "output_type": "stream",
          "name": "stdout",
          "text": [
            "Hello, Python!\n",
            "Jay\n",
            "Hi,Jay!\n"
          ]
        }
      ]
    },
    {
      "cell_type": "markdown",
      "source": [
        "## 코드 숨김 (#@markdown)"
      ],
      "metadata": {
        "id": "6j3Og4lmt4I_"
      }
    },
    {
      "cell_type": "code",
      "source": [
        "#@markdown **B. This is a code cell** (Run this code by clicking the icon on the left)\n",
        "\n",
        "name = input(\"What is your name? \")\n",
        "\n",
        "print(\"*\"*30)  # '*'라는 문자를 30번 곱해라\n",
        "print(f\"Welcome, {name}!\", \"\\n\", \"This is how you run a code cell.\", \"\\n\", \"When you click on the code cell and run it, the phrase 'You ran the code' indicates that the code has been executed.\", \"\\n\", \"The output you see is the direct result of what was programmed in that code cell.\")"
      ],
      "metadata": {
        "colab": {
          "base_uri": "https://localhost:8080/"
        },
        "id": "8llRWbzAsTJq",
        "outputId": "cf0073b4-8b90-4aad-d757-53d9c8bcd188"
      },
      "execution_count": 42,
      "outputs": [
        {
          "output_type": "stream",
          "name": "stdout",
          "text": [
            "What is your name? Jay\n",
            "******************************\n",
            "Welcome, Jay! \n",
            " This is how you run a code cell. \n",
            " When you click on the code cell and run it, the phrase 'You ran the code' indicates that the code has been executed. \n",
            " The output you see is the direct result of what was programmed in that code cell.\n"
          ]
        }
      ]
    },
    {
      "cell_type": "markdown",
      "source": [
        "## 문자 내 줄바꿈: \"\\n\"과 \"\\n\\n\""
      ],
      "metadata": {
        "id": "PNQRIORy4kw-"
      }
    },
    {
      "cell_type": "code",
      "source": [
        "# \"\\n\": 단일 개행 문자로, 문자열 내에서 한 번의 줄바꿈을 의미합니다.\n",
        "\n",
        "print(\"Hello\\nWorld\")\n",
        "\n",
        "print(\"\\n\")\n",
        "\n",
        "# \"\\n\\n\": 개행 문자 두 개를 연속으로 사용한 것으로, 문자열 내에서 두 번의 줄바꿈을 의미합니다. 결과적으로 한 줄을 건너뛰고 새로운 줄이 시작됩니다.\n",
        "\n",
        "print(\"Hello\\n\\nWorld\")"
      ],
      "metadata": {
        "colab": {
          "base_uri": "https://localhost:8080/"
        },
        "id": "P35ZsIRl4HJF",
        "outputId": "047e2ee4-54f0-47c0-c6f1-0e60df99484a"
      },
      "execution_count": 34,
      "outputs": [
        {
          "output_type": "stream",
          "name": "stdout",
          "text": [
            "Hello\n",
            "World\n",
            "\n",
            "\n",
            "Hello\n",
            "\n",
            "World\n"
          ]
        }
      ]
    },
    {
      "cell_type": "markdown",
      "source": [
        "## 코드 내 오류 읽기"
      ],
      "metadata": {
        "id": "pXssQaXSujTm"
      }
    },
    {
      "cell_type": "code",
      "source": [
        "# Reading an error message is also important!\n",
        "\n",
        "y = x * 5      # x 의 변수값아 정의되지 않았다.\n",
        "k = \"Welcome!\"\n",
        "\n",
        "print(y*2)\n",
        "print(k*2)"
      ],
      "metadata": {
        "id": "QJ_j6DXQup7l"
      },
      "execution_count": null,
      "outputs": []
    },
    {
      "cell_type": "code",
      "source": [
        "# Reading an error message is also important!\n",
        "\n",
        "y = \"x\" * 5      # 여기서 x는 int가 아닌 str이다.\n",
        "k = \"Welcome!\"\n",
        "\n",
        "print(y*2)\n",
        "print(k*2)"
      ],
      "metadata": {
        "colab": {
          "base_uri": "https://localhost:8080/"
        },
        "id": "YUxdcSncuxnN",
        "outputId": "72424bda-58b1-4f47-b441-b0e9399a3b85"
      },
      "execution_count": 27,
      "outputs": [
        {
          "output_type": "stream",
          "name": "stdout",
          "text": [
            "xxxxxxxxxx\n",
            "Welcome!Welcome!\n"
          ]
        }
      ]
    },
    {
      "cell_type": "code",
      "source": [
        "# Reading an error message is also important!\n",
        "x = 2  # x를 숫자로 사용하고 싶으면 미리 값을 정의해줘야 한다.\n",
        "y = x * 5\n",
        "\n",
        "print(y*2)\n",
        "print(k*2)"
      ],
      "metadata": {
        "colab": {
          "base_uri": "https://localhost:8080/"
        },
        "id": "lbKoU5XSu0kN",
        "outputId": "40f628b7-02d5-42b7-e561-9e533c3eea42"
      },
      "execution_count": 28,
      "outputs": [
        {
          "output_type": "stream",
          "name": "stdout",
          "text": [
            "20\n",
            "Welcome!Welcome!\n"
          ]
        }
      ]
    },
    {
      "cell_type": "markdown",
      "source": [
        "## 루프 함수 (Iterating)\n",
        "\n",
        "+ loof 함수는 variable1에 list를 정의한 다음\n",
        " + variable1 = [\"item1\", \"item2\", \"item3\"]\n",
        " + for variable2 in list:  \n",
        "  print(variable2)\n",
        "  guess = input(\"Your guess: \").stirp().lower()\n"
      ],
      "metadata": {
        "id": "fA5O1V75RkaN"
      }
    },
    {
      "cell_type": "code",
      "source": [
        "#@markdown More code sample: Word guessing game\n",
        "\n",
        "# Define a word and its hints\n",
        "word = \"apple\"\n",
        "hints = [\n",
        "    \"It's a type of fruit.\",\n",
        "    \"It can be red, green, or yellow.\",\n",
        "    \"It's often associated with the story of Isaac Newton.\",\n",
        "    \"This fruit's name starts with 'A'.\"\n",
        "]\n",
        "\n",
        "print(\"Welcome to the Progressive Hint Quiz!\")\n",
        "print(\"*\"*30)\n",
        "print(\"Try to guess the word. You'll receive up to 4 hints. Type 'exit' to quit.\")\n",
        "\n",
        "# User guess loop\n",
        "for hint in hints:\n",
        "    print(hint)  # Show the next hint\n",
        "    print(\"*\"*30)\n",
        "    guess = input(\"Your guess: \").strip().lower()  # Get user's guess, stripped of whitespace and converted to lowercase\n",
        "\n",
        "    if guess == \"exit\":\n",
        "     print(\"Thanks for playing! Goodbye.\")\n",
        "     break\n",
        "    elif guess == word:\n",
        "     print(\"Congratulations! You've guessed the word correctly.\")\n",
        "     break\n",
        "else: print(f\"Out of hints! The correct word was '{word}'. Better luck next time!\")\n",
        "# If the loop completes without a correct guess or exit\n",
        "# 위의 부분이 없으면 그냥 끝나버린다.\n"
      ],
      "metadata": {
        "colab": {
          "base_uri": "https://localhost:8080/"
        },
        "id": "P1FZqRD2RxVH",
        "outputId": "8f54bd85-f45b-41a4-e573-27387ac84af5"
      },
      "execution_count": 58,
      "outputs": [
        {
          "output_type": "stream",
          "name": "stdout",
          "text": [
            "Welcome to the Progressive Hint Quiz!\n",
            "******************************\n",
            "Try to guess the word. You'll receive up to 4 hints. Type 'exit' to quit.\n",
            "It's a type of fruit.\n",
            "******************************\n",
            "Your guess: Apple\n",
            "Congratulations! You've guessed the word correctly.\n"
          ]
        }
      ]
    },
    {
      "cell_type": "markdown",
      "source": [
        "## 링크 넣기"
      ],
      "metadata": {
        "id": "gNUQJ6ql7Hi4"
      }
    },
    {
      "cell_type": "code",
      "source": [
        "# 링크는 (여기)에 넣기\n",
        "# 글씨에 링크를 넣고 샆으면 [글씨](링크) 이렇게 하기\n",
        "[Multi-modality samples](https://github.com/MK316/Spring2024/blob/main/Multimodality.ipynb)"
      ],
      "metadata": {
        "id": "g6sCX46665gV"
      },
      "execution_count": null,
      "outputs": []
    },
    {
      "cell_type": "markdown",
      "source": [
        "## Variable 설정"
      ],
      "metadata": {
        "id": "D2FV1s_rMy5u"
      }
    },
    {
      "cell_type": "code",
      "source": [
        "x = 10                # Assign the value '10' to the variable 'x'\n",
        "y = \"Hello, class!\"   # Assign the text 'Hello, class!' to the variable 'y'\n",
        "\n",
        "print(x)\n",
        "\n",
        "x = x - 5  # 기존의 X=10을 넣어 새로운 변수 X가 생김\n",
        "\n",
        "print(x) # 위의 새로운 변수 X에 대한 값이다.\n",
        "print(y)\n",
        "\n"
      ],
      "metadata": {
        "colab": {
          "base_uri": "https://localhost:8080/"
        },
        "id": "NIfglBdUMd3w",
        "outputId": "b565fa63-9cd6-4b73-e98b-4304c376a45a"
      },
      "execution_count": 51,
      "outputs": [
        {
          "output_type": "stream",
          "name": "stdout",
          "text": [
            "10\n",
            "5\n",
            "Hello, class!\n"
          ]
        }
      ]
    },
    {
      "cell_type": "markdown",
      "source": [
        "## Index  \n",
        "📌 Important:  \n",
        "Python index begins with '0'.  \n",
        "Python uses zero-based indexing.  \n",
        "This means the first element is accessed with index 0, the second with 1, and so on."
      ],
      "metadata": {
        "id": "RinD6Co58BtK"
      }
    },
    {
      "cell_type": "markdown",
      "source": [
        "#Notes on Python index:\n",
        "---\n",
        "   \n",
        "## Python Index: Indexing in Python is a way to access individual items.\n",
        "\n",
        "### k = [1, 2, 3]  \n",
        "\n",
        "> Q1. How to access to the first item of k?\n",
        "\n",
        "> print(k[0])\n",
        "\n",
        "> Q2. What is the index of the value 3 in k?\n",
        "\n",
        "> print(k[2])"
      ],
      "metadata": {
        "id": "lKsjZv3jM9xa"
      }
    },
    {
      "cell_type": "code",
      "source": [
        "k = \"Python\"\n",
        "# [0] is how to access to the data using index\n",
        "print(k[0])\n",
        "print(k[0:2])  # 0인덱스 부터 2인덱스 전까지의 문자열을 나열하는 것이기 때문에 Pyt이 아니라 Py까지만 나온다.\n",
        "print(k[-2:])  # 음수는 역으로 센다.\n",
        "print(k[:])"
      ],
      "metadata": {
        "colab": {
          "base_uri": "https://localhost:8080/"
        },
        "id": "So-UesobIul2",
        "outputId": "f8eeacd9-9a9c-47b0-9207-5d811efbc49b"
      },
      "execution_count": 56,
      "outputs": [
        {
          "output_type": "stream",
          "name": "stdout",
          "text": [
            "P\n",
            "Py\n",
            "on\n",
            "Python\n"
          ]
        }
      ]
    },
    {
      "cell_type": "markdown",
      "source": [
        "## 계산기 APP"
      ],
      "metadata": {
        "id": "d1GiqbI8THCV"
      }
    },
    {
      "cell_type": "code",
      "source": [
        "# This function adds two numbers\n",
        "def add(x, y):\n",
        "    return x + y\n",
        "\n",
        "# This function subtracts two numbers\n",
        "def subtract(x, y):\n",
        "    return x - y\n",
        "\n",
        "# This function multiplies two numbers\n",
        "def multiply(x, y):\n",
        "    return x * y\n",
        "\n",
        "# This function divides two numbers\n",
        "def divide(x, y):\n",
        "    return x / y\n",
        "\n",
        "#@markdown Dropdown type calculator to teach how to read math operations in English\n",
        "func = \"subtract\" #@param = [\"add\",\"subtract\",\"multiply\",\"divide\"]\n",
        "digits = input(\"Type two numbers: (e.g., 3,4)\")\n",
        "digitsplit = digits.split(',')\n",
        "d1 = int(digitsplit[0])\n",
        "d2 = int(digitsplit[1])\n",
        "\n",
        "if func == \"add\":\n",
        "  result = add(d1,d2)\n",
        "  text = \"The addition of %d and %d equals %d\"%(d1,d2,result)\n",
        "elif func == \"subtract\":\n",
        "  result = subtract(d1,d2)\n",
        "  text = \"If you subtract %d from %d, you get %d\"%(d2,d1,result)\n",
        "elif func == \"divide\":\n",
        "  result = divide(d1,d2)\n",
        "  text = \"When you divide %d by %d, you get %d\"%(d1,d2,result)\n",
        "elif func == \"multiply\":\n",
        "  result = multiply(d1,d2)\n",
        "  text = \"%d multiplied by %d is %d\"%(d1,d2,result)\n",
        "\n",
        "print(text)\n",
        "\n"
      ],
      "metadata": {
        "colab": {
          "base_uri": "https://localhost:8080/"
        },
        "id": "5XHDX0mlTlpn",
        "outputId": "d9cf28ee-c5b6-4705-ac72-4af533b80481"
      },
      "execution_count": 113,
      "outputs": [
        {
          "output_type": "stream",
          "name": "stdout",
          "text": [
            "Type two numbers: (e.g., 3,4)5,6\n",
            "If you subtract 6 from 5, you get -1\n"
          ]
        }
      ]
    },
    {
      "cell_type": "code",
      "source": [
        "#@markdown Calculator app\n",
        "import ipywidgets as widgets\n",
        "from IPython.display import display\n",
        "\n",
        "# Create the output widget to display the results\n",
        "output = widgets.Output()\n",
        "\n",
        "# Create the text widget for displaying the expression\n",
        "expression = widgets.Text(value='', placeholder='Type something', description='Calculation:', disabled=False)\n",
        "\n",
        "def on_button_clicked(b):\n",
        "    with output:\n",
        "        output.clear_output()\n",
        "        if b.description == \"=\":\n",
        "            # Replace the Unicode operators with Python operators\n",
        "            current_expression = expression.value.replace('×', '*').replace('÷', '/')\n",
        "            # Evaluate the expression and handle errors\n",
        "            try:\n",
        "                expression.value = str(eval(current_expression))\n",
        "            except Exception as e:\n",
        "                expression.value = 'Error'\n",
        "        elif b.description == \"Clear\":  # Changed from \"C\" to \"Clear\"\n",
        "            # Clear the expression\n",
        "            expression.value = ''\n",
        "        else:\n",
        "            # Append the button description (number or operator) to the expression\n",
        "            expression.value += b.description\n",
        "\n",
        "\n",
        "# Create buttons using a loop and store them in a list\n",
        "buttons = []\n",
        "button_layout = widgets.Layout(width='75px', height='75px', margin='5px')  # Increased width and height, added margin\n",
        "button_style = {'button_color': 'orange'}  # Set the button color to orange\n",
        "\n",
        "operators = [['7', '8', '9', '÷'],\n",
        "             ['4', '5', '6', '×'],\n",
        "             ['1', '2', '3', '-'],\n",
        "             ['0', '.', '=', '+'],\n",
        "             ['Clear']]  # 'C' button for clearing the input\n",
        "\n",
        "for row in operators:\n",
        "    row_buttons = []\n",
        "    for button_label in row:\n",
        "        button = widgets.Button(description=button_label, layout=button_layout, style=button_style)\n",
        "        button.on_click(on_button_clicked)\n",
        "        row_buttons.append(button)\n",
        "    buttons.append(widgets.HBox(row_buttons))\n",
        "\n",
        "# Display all the widgets\n",
        "all_buttons = widgets.VBox([expression] + buttons)\n",
        "display(output, all_buttons)\n",
        "\n",
        "\n",
        "# Add a clear button\n",
        "clear_button = widgets.Button(description=\"C\", layout=button_layout)\n",
        "clear_button.on_click(on_button_clicked)\n",
        "buttons.append(widgets.HBox([clear_button]))\n",
        "\n",
        "# # Display all the widgets\n",
        "# all_buttons = widgets.VBox([expression] + buttons)\n",
        "# display(output, all_buttons)"
      ],
      "metadata": {
        "colab": {
          "base_uri": "https://localhost:8080/",
          "height": 474,
          "referenced_widgets": [
            "ab5c3e0af4934a0a90b61532dd36e4f7",
            "e87af527170043a793a00fbfafec6f08",
            "ad6242a45daf43b2b328ab212a337f1a",
            "5544888b418a4da797056c54af01e0e7",
            "cf22b046d70a4873bdc6a87feeb1f675",
            "dbb89ea7d2ff4fa8ae3c13715715e59d",
            "ce725cc573f348c1adba6e62bde46a9a",
            "fb2db93d987a40648908e70ef122d694",
            "4ee2e2b200684b08b975dee49b7b81f3",
            "b977dd81b9c94b70a6857dcb9c25cd6f",
            "4c69576a78a8467fb30f19d64908cbe5",
            "34ec0b045af94bc9be08de10d42d919c",
            "fe11a13aeda549ed87be3bf2e1c6bfd5",
            "ad394013c8d14020905e450598b36fcc",
            "798d5f617cd742e7942009f84fa7e43e",
            "62d105671553435a93111df378e5a6fa",
            "c428f3551ccf49f8acb30e291842aab9",
            "ae9557a11ce1447597ac93af949d73c2",
            "4a6623e1ffed4bd8b4a3f4897f2cc7d8",
            "67837a455f764836871e3ac61ff095fa",
            "adba705de83e49d782d5411e04a657f4",
            "953d3dc0db44491c9bf263d6a8272e17",
            "90843c54994e4c21ab51440f42a7cc4a",
            "0604d285dcd94464b1b7bba529bf561b",
            "80e3a9d636784317bf7ae35668790bb1",
            "c594d7208b76460c9db76629837c5a24",
            "2ffa2d00b2b94387a1e7d4ebd6436ab0",
            "b6053100212044cf94101f8f31736db3",
            "3369c4e58f024014b791a5c7bb53c393",
            "02c0f7807b1c432b9cff0520c0d47514",
            "510fbb319eff4111a93815b80c39bb32",
            "17a16ea2f0d04ad5913399df56d2ebd8",
            "61116605ea354d7dbe58ce71a7da579b",
            "7e6bf0c0a71a48aab61393dba17f8fc1",
            "22ce5d4351a3470286f61a4ec096db92",
            "bf2c24484b694d50a690faaf3731ceba",
            "db1f5ee3ee4f4ccdad971bae403021da",
            "d6fb6c058ef54d5083c93462a4e3191f",
            "bd495a065d7041918428a1f0f4bcc9de",
            "4f795e11c51b4e85b5a11ef1a94cc277",
            "09a959983b6c40e1bd29393361d56e2f",
            "e782a9b2b479431e9047667de5d2e9cb",
            "30dd9f3c4ab343599488c95734603f20",
            "fb8abf142bc041d880e6e0b87bdd61ae",
            "4a06ba7aa8934388a2850a4bb7caa1ce",
            "08c58aed56254b43ac9dc59577503ff7",
            "6d74923c295e4f59bf6b8338f9dc5eb3",
            "61749e5a95d742c79f91c2987a3cd75a",
            "f2c8a090189444b2abb382f766d62099",
            "f8c9414ea0c74f049c2efb426ecd15ee",
            "78fc1735a0474447a5a094007d64599e",
            "ec479a05869c4e249ea45ebdf9c7886b"
          ]
        },
        "cellView": "form",
        "id": "uZ6PSmILTFeu",
        "outputId": "6fb452f7-7628-4f05-ce05-c9ac532d1336"
      },
      "execution_count": 59,
      "outputs": [
        {
          "output_type": "display_data",
          "data": {
            "text/plain": [
              "Output()"
            ],
            "application/vnd.jupyter.widget-view+json": {
              "version_major": 2,
              "version_minor": 0,
              "model_id": "ab5c3e0af4934a0a90b61532dd36e4f7"
            }
          },
          "metadata": {}
        },
        {
          "output_type": "display_data",
          "data": {
            "text/plain": [
              "VBox(children=(Text(value='', description='Calculation:', placeholder='Type something'), HBox(children=(Button…"
            ],
            "application/vnd.jupyter.widget-view+json": {
              "version_major": 2,
              "version_minor": 0,
              "model_id": "ad6242a45daf43b2b328ab212a337f1a"
            }
          },
          "metadata": {}
        }
      ]
    },
    {
      "cell_type": "markdown",
      "source": [
        "## 그라디오 Install"
      ],
      "metadata": {
        "id": "y-f4Bq7jUXw3"
      }
    },
    {
      "cell_type": "code",
      "source": [
        "# Install gradio library using !pip install\n",
        "\n",
        "%%capture\n",
        "\n",
        "!pip install gradio"
      ],
      "metadata": {
        "id": "ElYbEogAUWEk"
      },
      "execution_count": null,
      "outputs": []
    },
    {
      "cell_type": "markdown",
      "source": [
        "## 이름 불러주는...? 앱"
      ],
      "metadata": {
        "id": "-tkh-NPsUdlg"
      }
    },
    {
      "cell_type": "code",
      "source": [
        "import gradio as gr\n",
        "\n",
        "# define a function\n",
        "def greet(name, intensity):\n",
        "    return \"Hello, \" + name + \"!\" * int(intensity)\n",
        "\n",
        "demo = gr.Interface(\n",
        "    fn=greet, # This is the function name\n",
        "    inputs=[\"text\", \"slider\"],\n",
        "    outputs=[\"text\"],\n",
        ")\n",
        "\n",
        "demo.launch()"
      ],
      "metadata": {
        "id": "g7UOv9mVU3IK"
      },
      "execution_count": null,
      "outputs": []
    },
    {
      "cell_type": "markdown",
      "source": [
        "## Gtts 설치 코드"
      ],
      "metadata": {
        "id": "WrxxRb7BWQ9m"
      }
    },
    {
      "cell_type": "code",
      "source": [
        "# Install multiple libraries\n",
        "\n",
        "%%capture\n",
        "!pip install gtts gradio"
      ],
      "metadata": {
        "id": "qcnooQEZWWpC"
      },
      "execution_count": null,
      "outputs": []
    },
    {
      "cell_type": "markdown",
      "source": [
        "## Yes-No question Converter"
      ],
      "metadata": {
        "id": "g_OegrXZWdrb"
      }
    },
    {
      "cell_type": "code",
      "source": [
        "#@markdown Yes-No converter app (using Gradio)\n",
        "import gradio as gr\n",
        "from gtts import gTTS\n",
        "import os\n",
        "\n",
        "def yesno_with_audio(sentence):\n",
        "    # Your existing yesno function\n",
        "    def yesno(sentence):\n",
        "        sentence = sentence.rstrip('.')\n",
        "        words = sentence.split()\n",
        "        be_verbs = ['is', 'are', 'am', 'was', 'were']\n",
        "\n",
        "        for i, word in enumerate(words):\n",
        "            if word in be_verbs and i != 0:\n",
        "                subject = words[0].lower()\n",
        "                verb = words[i]\n",
        "                remaining = words[1:i] + words[i+1:]\n",
        "                question = f\"{verb.capitalize()} {subject} \" + \" \".join(remaining).strip() + \"?\"\n",
        "                return question\n",
        "\n",
        "        return \"Not a simple 'be' verb sentence, already a question, or 'be' verb is the first word.\"\n",
        "\n",
        "    # Generate the yes-no question\n",
        "    question = yesno(sentence)\n",
        "\n",
        "    # Generate audio from the question\n",
        "    tts = gTTS(question, lang='en')\n",
        "    audio_file = 'output_audio.mp3'\n",
        "    tts.save(audio_file)\n",
        "\n",
        "    return question, audio_file\n",
        "\n",
        "iface = gr.Interface(\n",
        "    fn=yesno_with_audio,\n",
        "    inputs=gr.Textbox(lines=2, placeholder=\"Enter a sentence\"),\n",
        "    outputs=[\"text\", \"audio\"],\n",
        "    title=\"Yes-No Question Generator with Audio\",\n",
        "    description=\"Enter a sentence and this app will convert it into a yes-no question and read it aloud.\"\n",
        ")\n",
        "\n",
        "iface.launch()\n"
      ],
      "metadata": {
        "cellView": "form",
        "id": "OgnTNgrwWjyu"
      },
      "execution_count": null,
      "outputs": []
    },
    {
      "cell_type": "markdown",
      "source": [
        "## 유튜브 비디오 넣기\n",
        "from IPython.display import YouTubeVideo, display  \n",
        "video = YouTubeVideo(\"(유튜브 주소 = 다음 코드)\", width=크기)  \n",
        "display(video)"
      ],
      "metadata": {
        "id": "J5GGBnU9ZU4B"
      }
    },
    {
      "cell_type": "code",
      "source": [
        "#@markdown **Title: Why do we have different time zone?** Video (1m 19s)\n",
        "from IPython.display import YouTubeVideo, display\n",
        "video = YouTubeVideo(\"AgINA9_IFiI\", width=600)\n",
        "display(video)"
      ],
      "metadata": {
        "colab": {
          "base_uri": "https://localhost:8080/",
          "height": 322
        },
        "id": "B2e7cQNeZXp5",
        "outputId": "d9915080-66ea-473c-cc93-53c9d595ebfa"
      },
      "execution_count": 67,
      "outputs": [
        {
          "output_type": "display_data",
          "data": {
            "text/plain": [
              "<IPython.lib.display.YouTubeVideo at 0x7dc38dadca60>"
            ],
            "text/html": [
              "\n",
              "        <iframe\n",
              "            width=\"600\"\n",
              "            height=\"300\"\n",
              "            src=\"https://www.youtube.com/embed/AgINA9_IFiI\"\n",
              "            frameborder=\"0\"\n",
              "            allowfullscreen\n",
              "            \n",
              "        ></iframe>\n",
              "        "
            ],
            "image/jpeg": "[encoded data removed]"
          },
          "metadata": {}
        }
      ]
    },
    {
      "cell_type": "markdown",
      "source": [
        "## 세계 시간 알려주는 앱"
      ],
      "metadata": {
        "id": "dIjyZWmqamNB"
      }
    },
    {
      "cell_type": "code",
      "source": [
        "#@markdown 📌 gtts 깔기 # %%capture 얘는 앱 프로세스 안 보여주고 싶을 때 사용\n",
        "%%capture\n",
        "!pip install gtts\n",
        "from gtts import gTTS"
      ],
      "metadata": {
        "cellView": "form",
        "id": "HP9vwhbYarcR"
      },
      "execution_count": 68,
      "outputs": []
    },
    {
      "cell_type": "code",
      "source": [
        "from datetime import datetime\n",
        "import pytz\n",
        "\n",
        "#@markdown **🌲 Step [1] Location to choose:**\n",
        "# Get the timezone object for New York\n",
        "\n",
        "location = 'Europe/London' #@param = ['Asia/Seoul','Asia/Shanghai','Asia/Dubai','Australia/Sydney','America/New_York', 'Canada/Montreal','Europe/London', 'Europe/Barcelona','Africa/Cairo']\n",
        "loc = location.split(\"/\")\n",
        "locq = loc[1]\n",
        "\n",
        "tz_loc = pytz.timezone(location)\n",
        "datetime = datetime.now(tz_loc)\n",
        "current_time1 = datetime.strftime(\"%H:%M\")\n",
        "current_time2 = datetime.strftime(\"%I:%M %p\")\n",
        "\n",
        "# Get the current time in New York\n",
        "print(\"Current Time in %s is\"%locq, current_time2)"
      ],
      "metadata": {
        "cellView": "form",
        "id": "jy2wsoEabR1s"
      },
      "execution_count": null,
      "outputs": []
    },
    {
      "cell_type": "code",
      "source": [
        "#@markdown **🌲 Step [2] Language to choose:**\n",
        "# language and dialect selection\n",
        "language_select = \"en/us/English(US)\" #@param = [\"en/us/English(US)\",\"en/co.uk/English(UK)\",\"en/com.au/English(Australia)\",\"en/ca/English(Canada)\",\"en/co.in/English(India)\",\"en/ie/English(Ireland)\",\"fr/fr/French\",\"es/es/Spanish(Spain)/\",\"ko/ko/Korean\",\"zh-CN/any/Chinese(Main Land)\"]\n",
        "langsel = language_select.split(\"/\")\n",
        "lg = langsel[0]\n",
        "dialect = langsel[1]\n",
        "\n",
        "# # text input\n",
        "txt = input(\"Type texts to say: \")\n",
        "\n",
        "import random\n",
        "citylist = [\"London\",\"Paris\",\"New York\",\"Dubai\",\"Jinju\",\"Barcelona\",\"Shanghai\",\"Montreal\",\"Sydney\"]\n",
        "city = random.choice(citylist)\n",
        "txtnew = txt.replace(\"_\",\" \")\n",
        "mytext = txtnew + \"...\" + \"What time is it in %s now?\"%city\n",
        "# function\n",
        "if lg == \"ko\":\n",
        "  tts = gTTS(mytext, lang = lg, slow = False)\n",
        "elif lg == \"zh-CN\":\n",
        "  tts = gTTS(mytext, lang = lg, slow = False)\n",
        "else:\n",
        "  tts = gTTS(mytext, lang = lg, tld = dialect, slow = False)\n",
        "\n",
        "tts.save('myaudio.mp3')\n",
        "\n",
        "# Save as a file for reading\n",
        "\n",
        "# Play audio\n",
        "from IPython.display import Audio, display\n",
        "Audio('myaudio.mp3', autoplay=True)"
      ],
      "metadata": {
        "cellView": "form",
        "id": "dgo6FWpJbX0j"
      },
      "execution_count": null,
      "outputs": []
    },
    {
      "cell_type": "markdown",
      "source": [
        "# Data Type\n",
        "\n",
        "\n",
        "|Data type|Format|Example|\n",
        "|:--:|:--:|:--:|\n",
        "|number|int, float|2, 2.0|\n",
        "|string|character|'my way', '2'|\n",
        "|list|[element1, element2, ...]|[1,2,4], ['Mary','Tom','Jane'|\n",
        "|dictionary|{key: value}|{'English': 80, 'Korean':90}|\n",
        "|tuple|(element1, element2, ...)|('zero', 0), (\"Mon\",\"Tue\",\"Wed\",...)\n",
        ":"
      ],
      "metadata": {
        "id": "GIwEX5W7bg4O"
      }
    },
    {
      "cell_type": "code",
      "source": [
        "age = input(\"How old are you?\")  # str\n",
        "response = f\"Oh, you're {age}! I'm 17. \"   # f\".....{variable}\"\n",
        "print(response)"
      ],
      "metadata": {
        "colab": {
          "base_uri": "https://localhost:8080/"
        },
        "id": "HBXG5rGlb2Dz",
        "outputId": "754568e5-7f43-4204-9623-12525ff511d2"
      },
      "execution_count": 69,
      "outputs": [
        {
          "output_type": "stream",
          "name": "stdout",
          "text": [
            "How old are you?23\n",
            "Oh, you're 23! I'm 17. \n"
          ]
        }
      ]
    },
    {
      "cell_type": "markdown",
      "source": [
        "## 주어진 텍스트 나누기"
      ],
      "metadata": {
        "id": "zqDQeOT3cE_f"
      }
    },
    {
      "cell_type": "markdown",
      "source": [
        "* **.split() 함수**는 문자열을 공백(스페이스, 탭, 줄바꿈 등)을 기준으로 단어로 나누고, 나누어진 단어들을 리스트로 반환합니다.\n",
        "\n",
        "* **len() 함수**를 사용하여 `words` 리스트에 저장된 단어의 총 개수를 계산합니다"
      ],
      "metadata": {
        "id": "YNSrrjrIgu7P"
      }
    },
    {
      "cell_type": "code",
      "source": [
        "# Text\n",
        "mytext = \"\"\"\n",
        "An API, or Application Programming Interface, is a set of rules, protocols, and tools for building software and applications.\n",
        "It specifies how different software components should interact and communicate with each other.\n",
        "Essentially, an API is a way for different software applications to talk to one another.\n",
        "\"\"\"\n",
        "words = mytext.split()  # .split 함수 사용\n",
        "print(\"Number of words: \",len(words))  # len() 사용\n",
        "print(\"My text: \", mytext)"
      ],
      "metadata": {
        "colab": {
          "base_uri": "https://localhost:8080/"
        },
        "id": "lheLruX8dDgl",
        "outputId": "22f2f2cf-2936-42ce-ed10-f631c6ce2b47"
      },
      "execution_count": 78,
      "outputs": [
        {
          "output_type": "stream",
          "name": "stdout",
          "text": [
            "Number of words:  47\n",
            "My text:  \n",
            "An API, or Application Programming Interface, is a set of rules, protocols, and tools for building software and applications.\n",
            "It specifies how different software components should interact and communicate with each other.\n",
            "Essentially, an API is a way for different software applications to talk to one another.\n",
            "\n"
          ]
        }
      ]
    }
  ]
}